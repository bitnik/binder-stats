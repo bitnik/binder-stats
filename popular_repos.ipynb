{
 "cells": [
  {
   "cell_type": "code",
   "execution_count": 1,
   "metadata": {},
   "outputs": [],
   "source": [
    "import pandas as pd"
   ]
  },
  {
   "cell_type": "code",
   "execution_count": 2,
   "metadata": {},
   "outputs": [],
   "source": [
    "import requests"
   ]
  },
  {
   "cell_type": "code",
   "execution_count": 3,
   "metadata": {},
   "outputs": [],
   "source": [
    "def binder_url(org, repo):\n",
    "    return f'https://notebooks.gesis.org/binder/v2/gh/{org}/{repo}/master'"
   ]
  },
  {
   "cell_type": "code",
   "execution_count": 4,
   "metadata": {},
   "outputs": [],
   "source": [
    "from datetime import datetime\n",
    "def ts_to_dt(ts):\n",
    "    return datetime.utcfromtimestamp(ts)"
   ]
  },
  {
   "cell_type": "markdown",
   "metadata": {},
   "source": [
    "# The most popular repositories"
   ]
  },
  {
   "cell_type": "code",
   "execution_count": 5,
   "metadata": {},
   "outputs": [],
   "source": [
    "REPOS_TO_FILTER = [\n",
    "    'gesiscss/binder-stats'\n",
    "]"
   ]
  },
  {
   "cell_type": "code",
   "execution_count": 6,
   "metadata": {},
   "outputs": [],
   "source": [
    "def query(time_range, filter=\"{status='success'}\"):\n",
    "    query = f\"binderhub_launch_count_total{filter}[{time_range}]\"\n",
    "    print(query)\n",
    "    resp = requests.get('https://notebooks.gesis.org/prometheus/api/v1/query', params={'query': query})\n",
    "    data = resp.json()['data']['result']\n",
    "    return data"
   ]
  },
  {
   "cell_type": "code",
   "execution_count": 7,
   "metadata": {},
   "outputs": [],
   "source": [
    "def process_data(data):\n",
    "    d = {}  # {repo: [repo, org, provider, launches, repo_url, binder_url]}\n",
    "    value_times = []\n",
    "    for container in data:\n",
    "        repo_url = container['metric']['repo']\n",
    "        provider = container['metric']['provider']\n",
    "        provider_, org, repo = repo_url.replace('https://', '').rsplit('/', 2)\n",
    "        if f'{org}/{repo}' in REPOS_TO_FILTER:\n",
    "            continue\n",
    "        \n",
    "        # calculate number of launches for each repo = max value in time\n",
    "        launches = max([int(i[1]) for i in container['values']])\n",
    "        value_times.append(min([float(i[0]) for i in container['values']]))\n",
    "        if repo not in d:\n",
    "            d[repo] = [repo, org, provider, launches, repo_url, binder_url(org, repo)]\n",
    "        else:\n",
    "            # same repo can be launched on different instances (after a new deployment/update)\n",
    "            d[repo][3] += launches\n",
    "    print('Since', ts_to_dt(min(value_times)), 'in UTC')\n",
    "    return d"
   ]
  },
  {
   "cell_type": "code",
   "execution_count": 8,
   "metadata": {},
   "outputs": [],
   "source": [
    "def get_popular_repos(time_range):\n",
    "    data = query(f'{time_range}')\n",
    "    data = process_data(data)\n",
    "    return data"
   ]
  },
  {
   "cell_type": "code",
   "execution_count": 9,
   "metadata": {},
   "outputs": [],
   "source": [
    "def display_df(time_range):\n",
    "    data = get_popular_repos(time_range)\n",
    "    df = pd.DataFrame(list(data.values()), \n",
    "                      columns = ['repo', 'org', 'provider', 'launches', 'repo_url', 'binder_url'])\n",
    "    df = df.sort_values('launches', ascending=False).reset_index(drop=True)\n",
    "    df = df.style.format({'repo_url':lambda x: f'<a target=\"_blank\" href=\"{x}\">repo url</a>', \n",
    "                          'binder_url': lambda x: f'<a target=\"_blank\" href=\"{x}\">binder url</a>'})\n",
    "    display(df)\n",
    "    print(\"Total number of launches: \" + str(sum(df.data['launches'])) + \" in \"+ str(time_range))"
   ]
  },
  {
   "cell_type": "markdown",
   "metadata": {},
   "source": [
    "## Most popular repositories in last hour"
   ]
  },
  {
   "cell_type": "code",
   "execution_count": 10,
   "metadata": {},
   "outputs": [
    {
     "name": "stdout",
     "output_type": "stream",
     "text": [
      "binderhub_launch_count_total{status='success'}[1h]\n",
      "Since 2018-11-08 11:04:27.883000 in UTC\n"
     ]
    },
    {
     "data": {
      "text/html": [
       "<style  type=\"text/css\" >\n",
       "</style>  \n",
       "<table id=\"T_5d518cc6_e34e_11e8_a6c8_0a580af4037d\" > \n",
       "<thead>    <tr> \n",
       "        <th class=\"blank level0\" ></th> \n",
       "        <th class=\"col_heading level0 col0\" >repo</th> \n",
       "        <th class=\"col_heading level0 col1\" >org</th> \n",
       "        <th class=\"col_heading level0 col2\" >provider</th> \n",
       "        <th class=\"col_heading level0 col3\" >launches</th> \n",
       "        <th class=\"col_heading level0 col4\" >repo_url</th> \n",
       "        <th class=\"col_heading level0 col5\" >binder_url</th> \n",
       "    </tr></thead> \n",
       "<tbody>    <tr> \n",
       "        <th id=\"T_5d518cc6_e34e_11e8_a6c8_0a580af4037dlevel0_row0\" class=\"row_heading level0 row0\" >0</th> \n",
       "        <td id=\"T_5d518cc6_e34e_11e8_a6c8_0a580af4037drow0_col0\" class=\"data row0 col0\" >PythonDataScienceHandbook</td> \n",
       "        <td id=\"T_5d518cc6_e34e_11e8_a6c8_0a580af4037drow0_col1\" class=\"data row0 col1\" >gesiscss</td> \n",
       "        <td id=\"T_5d518cc6_e34e_11e8_a6c8_0a580af4037drow0_col2\" class=\"data row0 col2\" >GitHub</td> \n",
       "        <td id=\"T_5d518cc6_e34e_11e8_a6c8_0a580af4037drow0_col3\" class=\"data row0 col3\" >7</td> \n",
       "        <td id=\"T_5d518cc6_e34e_11e8_a6c8_0a580af4037drow0_col4\" class=\"data row0 col4\" ><a target=\"_blank\" href=\"https://github.com/gesiscss/PythonDataScienceHandbook\">repo url</a></td> \n",
       "        <td id=\"T_5d518cc6_e34e_11e8_a6c8_0a580af4037drow0_col5\" class=\"data row0 col5\" ><a target=\"_blank\" href=\"https://notebooks.gesis.org/binder/v2/gh/gesiscss/PythonDataScienceHandbook/master\">binder url</a></td> \n",
       "    </tr>    <tr> \n",
       "        <th id=\"T_5d518cc6_e34e_11e8_a6c8_0a580af4037dlevel0_row1\" class=\"row_heading level0 row1\" >1</th> \n",
       "        <td id=\"T_5d518cc6_e34e_11e8_a6c8_0a580af4037drow1_col0\" class=\"data row1 col0\" >workshop_girls_day</td> \n",
       "        <td id=\"T_5d518cc6_e34e_11e8_a6c8_0a580af4037drow1_col1\" class=\"data row1 col1\" >gesiscss</td> \n",
       "        <td id=\"T_5d518cc6_e34e_11e8_a6c8_0a580af4037drow1_col2\" class=\"data row1 col2\" >GitHub</td> \n",
       "        <td id=\"T_5d518cc6_e34e_11e8_a6c8_0a580af4037drow1_col3\" class=\"data row1 col3\" >3</td> \n",
       "        <td id=\"T_5d518cc6_e34e_11e8_a6c8_0a580af4037drow1_col4\" class=\"data row1 col4\" ><a target=\"_blank\" href=\"https://github.com/gesiscss/workshop_girls_day\">repo url</a></td> \n",
       "        <td id=\"T_5d518cc6_e34e_11e8_a6c8_0a580af4037drow1_col5\" class=\"data row1 col5\" ><a target=\"_blank\" href=\"https://notebooks.gesis.org/binder/v2/gh/gesiscss/workshop_girls_day/master\">binder url</a></td> \n",
       "    </tr>    <tr> \n",
       "        <th id=\"T_5d518cc6_e34e_11e8_a6c8_0a580af4037dlevel0_row2\" class=\"row_heading level0 row2\" >2</th> \n",
       "        <td id=\"T_5d518cc6_e34e_11e8_a6c8_0a580af4037drow2_col0\" class=\"data row2 col0\" >ligo-binder</td> \n",
       "        <td id=\"T_5d518cc6_e34e_11e8_a6c8_0a580af4037drow2_col1\" class=\"data row2 col1\" >minrk</td> \n",
       "        <td id=\"T_5d518cc6_e34e_11e8_a6c8_0a580af4037drow2_col2\" class=\"data row2 col2\" >GitHub</td> \n",
       "        <td id=\"T_5d518cc6_e34e_11e8_a6c8_0a580af4037drow2_col3\" class=\"data row2 col3\" >2</td> \n",
       "        <td id=\"T_5d518cc6_e34e_11e8_a6c8_0a580af4037drow2_col4\" class=\"data row2 col4\" ><a target=\"_blank\" href=\"https://github.com/minrk/ligo-binder\">repo url</a></td> \n",
       "        <td id=\"T_5d518cc6_e34e_11e8_a6c8_0a580af4037drow2_col5\" class=\"data row2 col5\" ><a target=\"_blank\" href=\"https://notebooks.gesis.org/binder/v2/gh/minrk/ligo-binder/master\">binder url</a></td> \n",
       "    </tr>    <tr> \n",
       "        <th id=\"T_5d518cc6_e34e_11e8_a6c8_0a580af4037dlevel0_row3\" class=\"row_heading level0 row3\" >3</th> \n",
       "        <td id=\"T_5d518cc6_e34e_11e8_a6c8_0a580af4037drow3_col0\" class=\"data row3 col0\" >tetris-binder</td> \n",
       "        <td id=\"T_5d518cc6_e34e_11e8_a6c8_0a580af4037drow3_col1\" class=\"data row3 col1\" >djsegal</td> \n",
       "        <td id=\"T_5d518cc6_e34e_11e8_a6c8_0a580af4037drow3_col2\" class=\"data row3 col2\" >GitHub</td> \n",
       "        <td id=\"T_5d518cc6_e34e_11e8_a6c8_0a580af4037drow3_col3\" class=\"data row3 col3\" >1</td> \n",
       "        <td id=\"T_5d518cc6_e34e_11e8_a6c8_0a580af4037drow3_col4\" class=\"data row3 col4\" ><a target=\"_blank\" href=\"https://github.com/djsegal/tetris-binder\">repo url</a></td> \n",
       "        <td id=\"T_5d518cc6_e34e_11e8_a6c8_0a580af4037drow3_col5\" class=\"data row3 col5\" ><a target=\"_blank\" href=\"https://notebooks.gesis.org/binder/v2/gh/djsegal/tetris-binder/master\">binder url</a></td> \n",
       "    </tr>    <tr> \n",
       "        <th id=\"T_5d518cc6_e34e_11e8_a6c8_0a580af4037dlevel0_row4\" class=\"row_heading level0 row4\" >4</th> \n",
       "        <td id=\"T_5d518cc6_e34e_11e8_a6c8_0a580af4037drow4_col0\" class=\"data row4 col0\" >ptm</td> \n",
       "        <td id=\"T_5d518cc6_e34e_11e8_a6c8_0a580af4037drow4_col1\" class=\"data row4 col1\" >gesiscss</td> \n",
       "        <td id=\"T_5d518cc6_e34e_11e8_a6c8_0a580af4037drow4_col2\" class=\"data row4 col2\" >GitHub</td> \n",
       "        <td id=\"T_5d518cc6_e34e_11e8_a6c8_0a580af4037drow4_col3\" class=\"data row4 col3\" >1</td> \n",
       "        <td id=\"T_5d518cc6_e34e_11e8_a6c8_0a580af4037drow4_col4\" class=\"data row4 col4\" ><a target=\"_blank\" href=\"https://github.com/gesiscss/ptm\">repo url</a></td> \n",
       "        <td id=\"T_5d518cc6_e34e_11e8_a6c8_0a580af4037drow4_col5\" class=\"data row4 col5\" ><a target=\"_blank\" href=\"https://notebooks.gesis.org/binder/v2/gh/gesiscss/ptm/master\">binder url</a></td> \n",
       "    </tr>    <tr> \n",
       "        <th id=\"T_5d518cc6_e34e_11e8_a6c8_0a580af4037dlevel0_row5\" class=\"row_heading level0 row5\" >5</th> \n",
       "        <td id=\"T_5d518cc6_e34e_11e8_a6c8_0a580af4037drow5_col0\" class=\"data row5 col0\" >demo-jupyterlab</td> \n",
       "        <td id=\"T_5d518cc6_e34e_11e8_a6c8_0a580af4037drow5_col1\" class=\"data row5 col1\" >raphbacher</td> \n",
       "        <td id=\"T_5d518cc6_e34e_11e8_a6c8_0a580af4037drow5_col2\" class=\"data row5 col2\" >GitHub</td> \n",
       "        <td id=\"T_5d518cc6_e34e_11e8_a6c8_0a580af4037drow5_col3\" class=\"data row5 col3\" >1</td> \n",
       "        <td id=\"T_5d518cc6_e34e_11e8_a6c8_0a580af4037drow5_col4\" class=\"data row5 col4\" ><a target=\"_blank\" href=\"https://github.com/raphbacher/demo-jupyterlab\">repo url</a></td> \n",
       "        <td id=\"T_5d518cc6_e34e_11e8_a6c8_0a580af4037drow5_col5\" class=\"data row5 col5\" ><a target=\"_blank\" href=\"https://notebooks.gesis.org/binder/v2/gh/raphbacher/demo-jupyterlab/master\">binder url</a></td> \n",
       "    </tr></tbody> \n",
       "</table> "
      ],
      "text/plain": [
       "<pandas.io.formats.style.Styler at 0x7f9316f0a3c8>"
      ]
     },
     "metadata": {},
     "output_type": "display_data"
    },
    {
     "name": "stdout",
     "output_type": "stream",
     "text": [
      "Total number of launches: 15 in 1h\n"
     ]
    }
   ],
   "source": [
    "display_df('1h')"
   ]
  },
  {
   "cell_type": "markdown",
   "metadata": {},
   "source": [
    "## Most popular repositories in the last day"
   ]
  },
  {
   "cell_type": "code",
   "execution_count": 11,
   "metadata": {},
   "outputs": [
    {
     "name": "stdout",
     "output_type": "stream",
     "text": [
      "binderhub_launch_count_total{status='success'}[1d]\n",
      "Since 2018-11-07 12:04:11.775000 in UTC\n"
     ]
    },
    {
     "data": {
      "text/html": [
       "<style  type=\"text/css\" >\n",
       "</style>  \n",
       "<table id=\"T_5d6dee8e_e34e_11e8_a6c8_0a580af4037d\" > \n",
       "<thead>    <tr> \n",
       "        <th class=\"blank level0\" ></th> \n",
       "        <th class=\"col_heading level0 col0\" >repo</th> \n",
       "        <th class=\"col_heading level0 col1\" >org</th> \n",
       "        <th class=\"col_heading level0 col2\" >provider</th> \n",
       "        <th class=\"col_heading level0 col3\" >launches</th> \n",
       "        <th class=\"col_heading level0 col4\" >repo_url</th> \n",
       "        <th class=\"col_heading level0 col5\" >binder_url</th> \n",
       "    </tr></thead> \n",
       "<tbody>    <tr> \n",
       "        <th id=\"T_5d6dee8e_e34e_11e8_a6c8_0a580af4037dlevel0_row0\" class=\"row_heading level0 row0\" >0</th> \n",
       "        <td id=\"T_5d6dee8e_e34e_11e8_a6c8_0a580af4037drow0_col0\" class=\"data row0 col0\" >PythonDataScienceHandbook</td> \n",
       "        <td id=\"T_5d6dee8e_e34e_11e8_a6c8_0a580af4037drow0_col1\" class=\"data row0 col1\" >gesiscss</td> \n",
       "        <td id=\"T_5d6dee8e_e34e_11e8_a6c8_0a580af4037drow0_col2\" class=\"data row0 col2\" >GitHub</td> \n",
       "        <td id=\"T_5d6dee8e_e34e_11e8_a6c8_0a580af4037drow0_col3\" class=\"data row0 col3\" >7</td> \n",
       "        <td id=\"T_5d6dee8e_e34e_11e8_a6c8_0a580af4037drow0_col4\" class=\"data row0 col4\" ><a target=\"_blank\" href=\"https://github.com/gesiscss/PythonDataScienceHandbook\">repo url</a></td> \n",
       "        <td id=\"T_5d6dee8e_e34e_11e8_a6c8_0a580af4037drow0_col5\" class=\"data row0 col5\" ><a target=\"_blank\" href=\"https://notebooks.gesis.org/binder/v2/gh/gesiscss/PythonDataScienceHandbook/master\">binder url</a></td> \n",
       "    </tr>    <tr> \n",
       "        <th id=\"T_5d6dee8e_e34e_11e8_a6c8_0a580af4037dlevel0_row1\" class=\"row_heading level0 row1\" >1</th> \n",
       "        <td id=\"T_5d6dee8e_e34e_11e8_a6c8_0a580af4037drow1_col0\" class=\"data row1 col0\" >workshop_girls_day</td> \n",
       "        <td id=\"T_5d6dee8e_e34e_11e8_a6c8_0a580af4037drow1_col1\" class=\"data row1 col1\" >gesiscss</td> \n",
       "        <td id=\"T_5d6dee8e_e34e_11e8_a6c8_0a580af4037drow1_col2\" class=\"data row1 col2\" >GitHub</td> \n",
       "        <td id=\"T_5d6dee8e_e34e_11e8_a6c8_0a580af4037drow1_col3\" class=\"data row1 col3\" >4</td> \n",
       "        <td id=\"T_5d6dee8e_e34e_11e8_a6c8_0a580af4037drow1_col4\" class=\"data row1 col4\" ><a target=\"_blank\" href=\"https://github.com/gesiscss/workshop_girls_day\">repo url</a></td> \n",
       "        <td id=\"T_5d6dee8e_e34e_11e8_a6c8_0a580af4037drow1_col5\" class=\"data row1 col5\" ><a target=\"_blank\" href=\"https://notebooks.gesis.org/binder/v2/gh/gesiscss/workshop_girls_day/master\">binder url</a></td> \n",
       "    </tr>    <tr> \n",
       "        <th id=\"T_5d6dee8e_e34e_11e8_a6c8_0a580af4037dlevel0_row2\" class=\"row_heading level0 row2\" >2</th> \n",
       "        <td id=\"T_5d6dee8e_e34e_11e8_a6c8_0a580af4037drow2_col0\" class=\"data row2 col0\" >ptm</td> \n",
       "        <td id=\"T_5d6dee8e_e34e_11e8_a6c8_0a580af4037drow2_col1\" class=\"data row2 col1\" >gesiscss</td> \n",
       "        <td id=\"T_5d6dee8e_e34e_11e8_a6c8_0a580af4037drow2_col2\" class=\"data row2 col2\" >GitHub</td> \n",
       "        <td id=\"T_5d6dee8e_e34e_11e8_a6c8_0a580af4037drow2_col3\" class=\"data row2 col3\" >2</td> \n",
       "        <td id=\"T_5d6dee8e_e34e_11e8_a6c8_0a580af4037drow2_col4\" class=\"data row2 col4\" ><a target=\"_blank\" href=\"https://github.com/gesiscss/ptm\">repo url</a></td> \n",
       "        <td id=\"T_5d6dee8e_e34e_11e8_a6c8_0a580af4037drow2_col5\" class=\"data row2 col5\" ><a target=\"_blank\" href=\"https://notebooks.gesis.org/binder/v2/gh/gesiscss/ptm/master\">binder url</a></td> \n",
       "    </tr>    <tr> \n",
       "        <th id=\"T_5d6dee8e_e34e_11e8_a6c8_0a580af4037dlevel0_row3\" class=\"row_heading level0 row3\" >3</th> \n",
       "        <td id=\"T_5d6dee8e_e34e_11e8_a6c8_0a580af4037drow3_col0\" class=\"data row3 col0\" >ligo-binder</td> \n",
       "        <td id=\"T_5d6dee8e_e34e_11e8_a6c8_0a580af4037drow3_col1\" class=\"data row3 col1\" >minrk</td> \n",
       "        <td id=\"T_5d6dee8e_e34e_11e8_a6c8_0a580af4037drow3_col2\" class=\"data row3 col2\" >GitHub</td> \n",
       "        <td id=\"T_5d6dee8e_e34e_11e8_a6c8_0a580af4037drow3_col3\" class=\"data row3 col3\" >2</td> \n",
       "        <td id=\"T_5d6dee8e_e34e_11e8_a6c8_0a580af4037drow3_col4\" class=\"data row3 col4\" ><a target=\"_blank\" href=\"https://github.com/minrk/ligo-binder\">repo url</a></td> \n",
       "        <td id=\"T_5d6dee8e_e34e_11e8_a6c8_0a580af4037drow3_col5\" class=\"data row3 col5\" ><a target=\"_blank\" href=\"https://notebooks.gesis.org/binder/v2/gh/minrk/ligo-binder/master\">binder url</a></td> \n",
       "    </tr>    <tr> \n",
       "        <th id=\"T_5d6dee8e_e34e_11e8_a6c8_0a580af4037dlevel0_row4\" class=\"row_heading level0 row4\" >4</th> \n",
       "        <td id=\"T_5d6dee8e_e34e_11e8_a6c8_0a580af4037drow4_col0\" class=\"data row4 col0\" >ThinkDSP</td> \n",
       "        <td id=\"T_5d6dee8e_e34e_11e8_a6c8_0a580af4037drow4_col1\" class=\"data row4 col1\" >AllenDowney</td> \n",
       "        <td id=\"T_5d6dee8e_e34e_11e8_a6c8_0a580af4037drow4_col2\" class=\"data row4 col2\" >GitHub</td> \n",
       "        <td id=\"T_5d6dee8e_e34e_11e8_a6c8_0a580af4037drow4_col3\" class=\"data row4 col3\" >1</td> \n",
       "        <td id=\"T_5d6dee8e_e34e_11e8_a6c8_0a580af4037drow4_col4\" class=\"data row4 col4\" ><a target=\"_blank\" href=\"https://github.com/AllenDowney/ThinkDSP\">repo url</a></td> \n",
       "        <td id=\"T_5d6dee8e_e34e_11e8_a6c8_0a580af4037drow4_col5\" class=\"data row4 col5\" ><a target=\"_blank\" href=\"https://notebooks.gesis.org/binder/v2/gh/AllenDowney/ThinkDSP/master\">binder url</a></td> \n",
       "    </tr>    <tr> \n",
       "        <th id=\"T_5d6dee8e_e34e_11e8_a6c8_0a580af4037dlevel0_row5\" class=\"row_heading level0 row5\" >5</th> \n",
       "        <td id=\"T_5d6dee8e_e34e_11e8_a6c8_0a580af4037drow5_col0\" class=\"data row5 col0\" >requirements</td> \n",
       "        <td id=\"T_5d6dee8e_e34e_11e8_a6c8_0a580af4037drow5_col1\" class=\"data row5 col1\" >binder-examples</td> \n",
       "        <td id=\"T_5d6dee8e_e34e_11e8_a6c8_0a580af4037drow5_col2\" class=\"data row5 col2\" >GitHub</td> \n",
       "        <td id=\"T_5d6dee8e_e34e_11e8_a6c8_0a580af4037drow5_col3\" class=\"data row5 col3\" >1</td> \n",
       "        <td id=\"T_5d6dee8e_e34e_11e8_a6c8_0a580af4037drow5_col4\" class=\"data row5 col4\" ><a target=\"_blank\" href=\"https://github.com/binder-examples/requirements\">repo url</a></td> \n",
       "        <td id=\"T_5d6dee8e_e34e_11e8_a6c8_0a580af4037drow5_col5\" class=\"data row5 col5\" ><a target=\"_blank\" href=\"https://notebooks.gesis.org/binder/v2/gh/binder-examples/requirements/master\">binder url</a></td> \n",
       "    </tr>    <tr> \n",
       "        <th id=\"T_5d6dee8e_e34e_11e8_a6c8_0a580af4037dlevel0_row6\" class=\"row_heading level0 row6\" >6</th> \n",
       "        <td id=\"T_5d6dee8e_e34e_11e8_a6c8_0a580af4037drow6_col0\" class=\"data row6 col0\" >elegant-scipy</td> \n",
       "        <td id=\"T_5d6dee8e_e34e_11e8_a6c8_0a580af4037drow6_col1\" class=\"data row6 col1\" >elegant-scipy</td> \n",
       "        <td id=\"T_5d6dee8e_e34e_11e8_a6c8_0a580af4037drow6_col2\" class=\"data row6 col2\" >GitHub</td> \n",
       "        <td id=\"T_5d6dee8e_e34e_11e8_a6c8_0a580af4037drow6_col3\" class=\"data row6 col3\" >1</td> \n",
       "        <td id=\"T_5d6dee8e_e34e_11e8_a6c8_0a580af4037drow6_col4\" class=\"data row6 col4\" ><a target=\"_blank\" href=\"https://github.com/elegant-scipy/elegant-scipy\">repo url</a></td> \n",
       "        <td id=\"T_5d6dee8e_e34e_11e8_a6c8_0a580af4037drow6_col5\" class=\"data row6 col5\" ><a target=\"_blank\" href=\"https://notebooks.gesis.org/binder/v2/gh/elegant-scipy/elegant-scipy/master\">binder url</a></td> \n",
       "    </tr>    <tr> \n",
       "        <th id=\"T_5d6dee8e_e34e_11e8_a6c8_0a580af4037dlevel0_row7\" class=\"row_heading level0 row7\" >7</th> \n",
       "        <td id=\"T_5d6dee8e_e34e_11e8_a6c8_0a580af4037drow7_col0\" class=\"data row7 col0\" >jupyter4kids</td> \n",
       "        <td id=\"T_5d6dee8e_e34e_11e8_a6c8_0a580af4037drow7_col1\" class=\"data row7 col1\" >mikkokotila</td> \n",
       "        <td id=\"T_5d6dee8e_e34e_11e8_a6c8_0a580af4037drow7_col2\" class=\"data row7 col2\" >GitHub</td> \n",
       "        <td id=\"T_5d6dee8e_e34e_11e8_a6c8_0a580af4037drow7_col3\" class=\"data row7 col3\" >1</td> \n",
       "        <td id=\"T_5d6dee8e_e34e_11e8_a6c8_0a580af4037drow7_col4\" class=\"data row7 col4\" ><a target=\"_blank\" href=\"https://github.com/mikkokotila/jupyter4kids\">repo url</a></td> \n",
       "        <td id=\"T_5d6dee8e_e34e_11e8_a6c8_0a580af4037drow7_col5\" class=\"data row7 col5\" ><a target=\"_blank\" href=\"https://notebooks.gesis.org/binder/v2/gh/mikkokotila/jupyter4kids/master\">binder url</a></td> \n",
       "    </tr>    <tr> \n",
       "        <th id=\"T_5d6dee8e_e34e_11e8_a6c8_0a580af4037dlevel0_row8\" class=\"row_heading level0 row8\" >8</th> \n",
       "        <td id=\"T_5d6dee8e_e34e_11e8_a6c8_0a580af4037drow8_col0\" class=\"data row8 col0\" >dl-workshop</td> \n",
       "        <td id=\"T_5d6dee8e_e34e_11e8_a6c8_0a580af4037drow8_col1\" class=\"data row8 col1\" >pacm</td> \n",
       "        <td id=\"T_5d6dee8e_e34e_11e8_a6c8_0a580af4037drow8_col2\" class=\"data row8 col2\" >GitHub</td> \n",
       "        <td id=\"T_5d6dee8e_e34e_11e8_a6c8_0a580af4037drow8_col3\" class=\"data row8 col3\" >1</td> \n",
       "        <td id=\"T_5d6dee8e_e34e_11e8_a6c8_0a580af4037drow8_col4\" class=\"data row8 col4\" ><a target=\"_blank\" href=\"https://github.com/pacm/dl-workshop\">repo url</a></td> \n",
       "        <td id=\"T_5d6dee8e_e34e_11e8_a6c8_0a580af4037drow8_col5\" class=\"data row8 col5\" ><a target=\"_blank\" href=\"https://notebooks.gesis.org/binder/v2/gh/pacm/dl-workshop/master\">binder url</a></td> \n",
       "    </tr>    <tr> \n",
       "        <th id=\"T_5d6dee8e_e34e_11e8_a6c8_0a580af4037dlevel0_row9\" class=\"row_heading level0 row9\" >9</th> \n",
       "        <td id=\"T_5d6dee8e_e34e_11e8_a6c8_0a580af4037drow9_col0\" class=\"data row9 col0\" >tetris-binder</td> \n",
       "        <td id=\"T_5d6dee8e_e34e_11e8_a6c8_0a580af4037drow9_col1\" class=\"data row9 col1\" >djsegal</td> \n",
       "        <td id=\"T_5d6dee8e_e34e_11e8_a6c8_0a580af4037drow9_col2\" class=\"data row9 col2\" >GitHub</td> \n",
       "        <td id=\"T_5d6dee8e_e34e_11e8_a6c8_0a580af4037drow9_col3\" class=\"data row9 col3\" >1</td> \n",
       "        <td id=\"T_5d6dee8e_e34e_11e8_a6c8_0a580af4037drow9_col4\" class=\"data row9 col4\" ><a target=\"_blank\" href=\"https://github.com/djsegal/tetris-binder\">repo url</a></td> \n",
       "        <td id=\"T_5d6dee8e_e34e_11e8_a6c8_0a580af4037drow9_col5\" class=\"data row9 col5\" ><a target=\"_blank\" href=\"https://notebooks.gesis.org/binder/v2/gh/djsegal/tetris-binder/master\">binder url</a></td> \n",
       "    </tr>    <tr> \n",
       "        <th id=\"T_5d6dee8e_e34e_11e8_a6c8_0a580af4037dlevel0_row10\" class=\"row_heading level0 row10\" >10</th> \n",
       "        <td id=\"T_5d6dee8e_e34e_11e8_a6c8_0a580af4037drow10_col0\" class=\"data row10 col0\" >demo-jupyterlab</td> \n",
       "        <td id=\"T_5d6dee8e_e34e_11e8_a6c8_0a580af4037drow10_col1\" class=\"data row10 col1\" >raphbacher</td> \n",
       "        <td id=\"T_5d6dee8e_e34e_11e8_a6c8_0a580af4037drow10_col2\" class=\"data row10 col2\" >GitHub</td> \n",
       "        <td id=\"T_5d6dee8e_e34e_11e8_a6c8_0a580af4037drow10_col3\" class=\"data row10 col3\" >1</td> \n",
       "        <td id=\"T_5d6dee8e_e34e_11e8_a6c8_0a580af4037drow10_col4\" class=\"data row10 col4\" ><a target=\"_blank\" href=\"https://github.com/raphbacher/demo-jupyterlab\">repo url</a></td> \n",
       "        <td id=\"T_5d6dee8e_e34e_11e8_a6c8_0a580af4037drow10_col5\" class=\"data row10 col5\" ><a target=\"_blank\" href=\"https://notebooks.gesis.org/binder/v2/gh/raphbacher/demo-jupyterlab/master\">binder url</a></td> \n",
       "    </tr></tbody> \n",
       "</table> "
      ],
      "text/plain": [
       "<pandas.io.formats.style.Styler at 0x7f92fe7e90b8>"
      ]
     },
     "metadata": {},
     "output_type": "display_data"
    },
    {
     "name": "stdout",
     "output_type": "stream",
     "text": [
      "Total number of launches: 22 in 1d\n"
     ]
    }
   ],
   "source": [
    "display_df('1d')"
   ]
  },
  {
   "cell_type": "markdown",
   "metadata": {},
   "source": [
    "## Most popular repositories in the last 30 days "
   ]
  },
  {
   "cell_type": "code",
   "execution_count": 12,
   "metadata": {},
   "outputs": [
    {
     "name": "stdout",
     "output_type": "stream",
     "text": [
      "binderhub_launch_count_total{status='success'}[30d]\n",
      "Since 2018-11-07 08:13:11.776000 in UTC\n"
     ]
    },
    {
     "data": {
      "text/html": [
       "<style  type=\"text/css\" >\n",
       "</style>  \n",
       "<table id=\"T_5d813ae8_e34e_11e8_a6c8_0a580af4037d\" > \n",
       "<thead>    <tr> \n",
       "        <th class=\"blank level0\" ></th> \n",
       "        <th class=\"col_heading level0 col0\" >repo</th> \n",
       "        <th class=\"col_heading level0 col1\" >org</th> \n",
       "        <th class=\"col_heading level0 col2\" >provider</th> \n",
       "        <th class=\"col_heading level0 col3\" >launches</th> \n",
       "        <th class=\"col_heading level0 col4\" >repo_url</th> \n",
       "        <th class=\"col_heading level0 col5\" >binder_url</th> \n",
       "    </tr></thead> \n",
       "<tbody>    <tr> \n",
       "        <th id=\"T_5d813ae8_e34e_11e8_a6c8_0a580af4037dlevel0_row0\" class=\"row_heading level0 row0\" >0</th> \n",
       "        <td id=\"T_5d813ae8_e34e_11e8_a6c8_0a580af4037drow0_col0\" class=\"data row0 col0\" >PythonDataScienceHandbook</td> \n",
       "        <td id=\"T_5d813ae8_e34e_11e8_a6c8_0a580af4037drow0_col1\" class=\"data row0 col1\" >gesiscss</td> \n",
       "        <td id=\"T_5d813ae8_e34e_11e8_a6c8_0a580af4037drow0_col2\" class=\"data row0 col2\" >GitHub</td> \n",
       "        <td id=\"T_5d813ae8_e34e_11e8_a6c8_0a580af4037drow0_col3\" class=\"data row0 col3\" >7</td> \n",
       "        <td id=\"T_5d813ae8_e34e_11e8_a6c8_0a580af4037drow0_col4\" class=\"data row0 col4\" ><a target=\"_blank\" href=\"https://github.com/gesiscss/PythonDataScienceHandbook\">repo url</a></td> \n",
       "        <td id=\"T_5d813ae8_e34e_11e8_a6c8_0a580af4037drow0_col5\" class=\"data row0 col5\" ><a target=\"_blank\" href=\"https://notebooks.gesis.org/binder/v2/gh/gesiscss/PythonDataScienceHandbook/master\">binder url</a></td> \n",
       "    </tr>    <tr> \n",
       "        <th id=\"T_5d813ae8_e34e_11e8_a6c8_0a580af4037dlevel0_row1\" class=\"row_heading level0 row1\" >1</th> \n",
       "        <td id=\"T_5d813ae8_e34e_11e8_a6c8_0a580af4037drow1_col0\" class=\"data row1 col0\" >workshop_girls_day</td> \n",
       "        <td id=\"T_5d813ae8_e34e_11e8_a6c8_0a580af4037drow1_col1\" class=\"data row1 col1\" >gesiscss</td> \n",
       "        <td id=\"T_5d813ae8_e34e_11e8_a6c8_0a580af4037drow1_col2\" class=\"data row1 col2\" >GitHub</td> \n",
       "        <td id=\"T_5d813ae8_e34e_11e8_a6c8_0a580af4037drow1_col3\" class=\"data row1 col3\" >4</td> \n",
       "        <td id=\"T_5d813ae8_e34e_11e8_a6c8_0a580af4037drow1_col4\" class=\"data row1 col4\" ><a target=\"_blank\" href=\"https://github.com/gesiscss/workshop_girls_day\">repo url</a></td> \n",
       "        <td id=\"T_5d813ae8_e34e_11e8_a6c8_0a580af4037drow1_col5\" class=\"data row1 col5\" ><a target=\"_blank\" href=\"https://notebooks.gesis.org/binder/v2/gh/gesiscss/workshop_girls_day/master\">binder url</a></td> \n",
       "    </tr>    <tr> \n",
       "        <th id=\"T_5d813ae8_e34e_11e8_a6c8_0a580af4037dlevel0_row2\" class=\"row_heading level0 row2\" >2</th> \n",
       "        <td id=\"T_5d813ae8_e34e_11e8_a6c8_0a580af4037drow2_col0\" class=\"data row2 col0\" >ptm</td> \n",
       "        <td id=\"T_5d813ae8_e34e_11e8_a6c8_0a580af4037drow2_col1\" class=\"data row2 col1\" >gesiscss</td> \n",
       "        <td id=\"T_5d813ae8_e34e_11e8_a6c8_0a580af4037drow2_col2\" class=\"data row2 col2\" >GitHub</td> \n",
       "        <td id=\"T_5d813ae8_e34e_11e8_a6c8_0a580af4037drow2_col3\" class=\"data row2 col3\" >2</td> \n",
       "        <td id=\"T_5d813ae8_e34e_11e8_a6c8_0a580af4037drow2_col4\" class=\"data row2 col4\" ><a target=\"_blank\" href=\"https://github.com/gesiscss/ptm\">repo url</a></td> \n",
       "        <td id=\"T_5d813ae8_e34e_11e8_a6c8_0a580af4037drow2_col5\" class=\"data row2 col5\" ><a target=\"_blank\" href=\"https://notebooks.gesis.org/binder/v2/gh/gesiscss/ptm/master\">binder url</a></td> \n",
       "    </tr>    <tr> \n",
       "        <th id=\"T_5d813ae8_e34e_11e8_a6c8_0a580af4037dlevel0_row3\" class=\"row_heading level0 row3\" >3</th> \n",
       "        <td id=\"T_5d813ae8_e34e_11e8_a6c8_0a580af4037drow3_col0\" class=\"data row3 col0\" >ligo-binder</td> \n",
       "        <td id=\"T_5d813ae8_e34e_11e8_a6c8_0a580af4037drow3_col1\" class=\"data row3 col1\" >minrk</td> \n",
       "        <td id=\"T_5d813ae8_e34e_11e8_a6c8_0a580af4037drow3_col2\" class=\"data row3 col2\" >GitHub</td> \n",
       "        <td id=\"T_5d813ae8_e34e_11e8_a6c8_0a580af4037drow3_col3\" class=\"data row3 col3\" >2</td> \n",
       "        <td id=\"T_5d813ae8_e34e_11e8_a6c8_0a580af4037drow3_col4\" class=\"data row3 col4\" ><a target=\"_blank\" href=\"https://github.com/minrk/ligo-binder\">repo url</a></td> \n",
       "        <td id=\"T_5d813ae8_e34e_11e8_a6c8_0a580af4037drow3_col5\" class=\"data row3 col5\" ><a target=\"_blank\" href=\"https://notebooks.gesis.org/binder/v2/gh/minrk/ligo-binder/master\">binder url</a></td> \n",
       "    </tr>    <tr> \n",
       "        <th id=\"T_5d813ae8_e34e_11e8_a6c8_0a580af4037dlevel0_row4\" class=\"row_heading level0 row4\" >4</th> \n",
       "        <td id=\"T_5d813ae8_e34e_11e8_a6c8_0a580af4037drow4_col0\" class=\"data row4 col0\" >ThinkDSP</td> \n",
       "        <td id=\"T_5d813ae8_e34e_11e8_a6c8_0a580af4037drow4_col1\" class=\"data row4 col1\" >AllenDowney</td> \n",
       "        <td id=\"T_5d813ae8_e34e_11e8_a6c8_0a580af4037drow4_col2\" class=\"data row4 col2\" >GitHub</td> \n",
       "        <td id=\"T_5d813ae8_e34e_11e8_a6c8_0a580af4037drow4_col3\" class=\"data row4 col3\" >1</td> \n",
       "        <td id=\"T_5d813ae8_e34e_11e8_a6c8_0a580af4037drow4_col4\" class=\"data row4 col4\" ><a target=\"_blank\" href=\"https://github.com/AllenDowney/ThinkDSP\">repo url</a></td> \n",
       "        <td id=\"T_5d813ae8_e34e_11e8_a6c8_0a580af4037drow4_col5\" class=\"data row4 col5\" ><a target=\"_blank\" href=\"https://notebooks.gesis.org/binder/v2/gh/AllenDowney/ThinkDSP/master\">binder url</a></td> \n",
       "    </tr>    <tr> \n",
       "        <th id=\"T_5d813ae8_e34e_11e8_a6c8_0a580af4037dlevel0_row5\" class=\"row_heading level0 row5\" >5</th> \n",
       "        <td id=\"T_5d813ae8_e34e_11e8_a6c8_0a580af4037drow5_col0\" class=\"data row5 col0\" >requirements</td> \n",
       "        <td id=\"T_5d813ae8_e34e_11e8_a6c8_0a580af4037drow5_col1\" class=\"data row5 col1\" >binder-examples</td> \n",
       "        <td id=\"T_5d813ae8_e34e_11e8_a6c8_0a580af4037drow5_col2\" class=\"data row5 col2\" >GitHub</td> \n",
       "        <td id=\"T_5d813ae8_e34e_11e8_a6c8_0a580af4037drow5_col3\" class=\"data row5 col3\" >1</td> \n",
       "        <td id=\"T_5d813ae8_e34e_11e8_a6c8_0a580af4037drow5_col4\" class=\"data row5 col4\" ><a target=\"_blank\" href=\"https://github.com/binder-examples/requirements\">repo url</a></td> \n",
       "        <td id=\"T_5d813ae8_e34e_11e8_a6c8_0a580af4037drow5_col5\" class=\"data row5 col5\" ><a target=\"_blank\" href=\"https://notebooks.gesis.org/binder/v2/gh/binder-examples/requirements/master\">binder url</a></td> \n",
       "    </tr>    <tr> \n",
       "        <th id=\"T_5d813ae8_e34e_11e8_a6c8_0a580af4037dlevel0_row6\" class=\"row_heading level0 row6\" >6</th> \n",
       "        <td id=\"T_5d813ae8_e34e_11e8_a6c8_0a580af4037drow6_col0\" class=\"data row6 col0\" >elegant-scipy</td> \n",
       "        <td id=\"T_5d813ae8_e34e_11e8_a6c8_0a580af4037drow6_col1\" class=\"data row6 col1\" >elegant-scipy</td> \n",
       "        <td id=\"T_5d813ae8_e34e_11e8_a6c8_0a580af4037drow6_col2\" class=\"data row6 col2\" >GitHub</td> \n",
       "        <td id=\"T_5d813ae8_e34e_11e8_a6c8_0a580af4037drow6_col3\" class=\"data row6 col3\" >1</td> \n",
       "        <td id=\"T_5d813ae8_e34e_11e8_a6c8_0a580af4037drow6_col4\" class=\"data row6 col4\" ><a target=\"_blank\" href=\"https://github.com/elegant-scipy/elegant-scipy\">repo url</a></td> \n",
       "        <td id=\"T_5d813ae8_e34e_11e8_a6c8_0a580af4037drow6_col5\" class=\"data row6 col5\" ><a target=\"_blank\" href=\"https://notebooks.gesis.org/binder/v2/gh/elegant-scipy/elegant-scipy/master\">binder url</a></td> \n",
       "    </tr>    <tr> \n",
       "        <th id=\"T_5d813ae8_e34e_11e8_a6c8_0a580af4037dlevel0_row7\" class=\"row_heading level0 row7\" >7</th> \n",
       "        <td id=\"T_5d813ae8_e34e_11e8_a6c8_0a580af4037drow7_col0\" class=\"data row7 col0\" >jupyter4kids</td> \n",
       "        <td id=\"T_5d813ae8_e34e_11e8_a6c8_0a580af4037drow7_col1\" class=\"data row7 col1\" >mikkokotila</td> \n",
       "        <td id=\"T_5d813ae8_e34e_11e8_a6c8_0a580af4037drow7_col2\" class=\"data row7 col2\" >GitHub</td> \n",
       "        <td id=\"T_5d813ae8_e34e_11e8_a6c8_0a580af4037drow7_col3\" class=\"data row7 col3\" >1</td> \n",
       "        <td id=\"T_5d813ae8_e34e_11e8_a6c8_0a580af4037drow7_col4\" class=\"data row7 col4\" ><a target=\"_blank\" href=\"https://github.com/mikkokotila/jupyter4kids\">repo url</a></td> \n",
       "        <td id=\"T_5d813ae8_e34e_11e8_a6c8_0a580af4037drow7_col5\" class=\"data row7 col5\" ><a target=\"_blank\" href=\"https://notebooks.gesis.org/binder/v2/gh/mikkokotila/jupyter4kids/master\">binder url</a></td> \n",
       "    </tr>    <tr> \n",
       "        <th id=\"T_5d813ae8_e34e_11e8_a6c8_0a580af4037dlevel0_row8\" class=\"row_heading level0 row8\" >8</th> \n",
       "        <td id=\"T_5d813ae8_e34e_11e8_a6c8_0a580af4037drow8_col0\" class=\"data row8 col0\" >dl-workshop</td> \n",
       "        <td id=\"T_5d813ae8_e34e_11e8_a6c8_0a580af4037drow8_col1\" class=\"data row8 col1\" >pacm</td> \n",
       "        <td id=\"T_5d813ae8_e34e_11e8_a6c8_0a580af4037drow8_col2\" class=\"data row8 col2\" >GitHub</td> \n",
       "        <td id=\"T_5d813ae8_e34e_11e8_a6c8_0a580af4037drow8_col3\" class=\"data row8 col3\" >1</td> \n",
       "        <td id=\"T_5d813ae8_e34e_11e8_a6c8_0a580af4037drow8_col4\" class=\"data row8 col4\" ><a target=\"_blank\" href=\"https://github.com/pacm/dl-workshop\">repo url</a></td> \n",
       "        <td id=\"T_5d813ae8_e34e_11e8_a6c8_0a580af4037drow8_col5\" class=\"data row8 col5\" ><a target=\"_blank\" href=\"https://notebooks.gesis.org/binder/v2/gh/pacm/dl-workshop/master\">binder url</a></td> \n",
       "    </tr>    <tr> \n",
       "        <th id=\"T_5d813ae8_e34e_11e8_a6c8_0a580af4037dlevel0_row9\" class=\"row_heading level0 row9\" >9</th> \n",
       "        <td id=\"T_5d813ae8_e34e_11e8_a6c8_0a580af4037drow9_col0\" class=\"data row9 col0\" >tetris-binder</td> \n",
       "        <td id=\"T_5d813ae8_e34e_11e8_a6c8_0a580af4037drow9_col1\" class=\"data row9 col1\" >djsegal</td> \n",
       "        <td id=\"T_5d813ae8_e34e_11e8_a6c8_0a580af4037drow9_col2\" class=\"data row9 col2\" >GitHub</td> \n",
       "        <td id=\"T_5d813ae8_e34e_11e8_a6c8_0a580af4037drow9_col3\" class=\"data row9 col3\" >1</td> \n",
       "        <td id=\"T_5d813ae8_e34e_11e8_a6c8_0a580af4037drow9_col4\" class=\"data row9 col4\" ><a target=\"_blank\" href=\"https://github.com/djsegal/tetris-binder\">repo url</a></td> \n",
       "        <td id=\"T_5d813ae8_e34e_11e8_a6c8_0a580af4037drow9_col5\" class=\"data row9 col5\" ><a target=\"_blank\" href=\"https://notebooks.gesis.org/binder/v2/gh/djsegal/tetris-binder/master\">binder url</a></td> \n",
       "    </tr>    <tr> \n",
       "        <th id=\"T_5d813ae8_e34e_11e8_a6c8_0a580af4037dlevel0_row10\" class=\"row_heading level0 row10\" >10</th> \n",
       "        <td id=\"T_5d813ae8_e34e_11e8_a6c8_0a580af4037drow10_col0\" class=\"data row10 col0\" >demo-jupyterlab</td> \n",
       "        <td id=\"T_5d813ae8_e34e_11e8_a6c8_0a580af4037drow10_col1\" class=\"data row10 col1\" >raphbacher</td> \n",
       "        <td id=\"T_5d813ae8_e34e_11e8_a6c8_0a580af4037drow10_col2\" class=\"data row10 col2\" >GitHub</td> \n",
       "        <td id=\"T_5d813ae8_e34e_11e8_a6c8_0a580af4037drow10_col3\" class=\"data row10 col3\" >1</td> \n",
       "        <td id=\"T_5d813ae8_e34e_11e8_a6c8_0a580af4037drow10_col4\" class=\"data row10 col4\" ><a target=\"_blank\" href=\"https://github.com/raphbacher/demo-jupyterlab\">repo url</a></td> \n",
       "        <td id=\"T_5d813ae8_e34e_11e8_a6c8_0a580af4037drow10_col5\" class=\"data row10 col5\" ><a target=\"_blank\" href=\"https://notebooks.gesis.org/binder/v2/gh/raphbacher/demo-jupyterlab/master\">binder url</a></td> \n",
       "    </tr></tbody> \n",
       "</table> "
      ],
      "text/plain": [
       "<pandas.io.formats.style.Styler at 0x7f92a3081630>"
      ]
     },
     "metadata": {},
     "output_type": "display_data"
    },
    {
     "name": "stdout",
     "output_type": "stream",
     "text": [
      "Total number of launches: 22 in 30d\n"
     ]
    }
   ],
   "source": [
    "display_df('30d')"
   ]
  },
  {
   "cell_type": "markdown",
   "metadata": {},
   "source": [
    "## Most popular repositories in the last 60 days "
   ]
  },
  {
   "cell_type": "code",
   "execution_count": 13,
   "metadata": {},
   "outputs": [
    {
     "name": "stdout",
     "output_type": "stream",
     "text": [
      "binderhub_launch_count_total{status='success'}[60d]\n",
      "Since 2018-11-07 08:13:11.776000 in UTC\n"
     ]
    },
    {
     "data": {
      "text/html": [
       "<style  type=\"text/css\" >\n",
       "</style>  \n",
       "<table id=\"T_5d972b96_e34e_11e8_a6c8_0a580af4037d\" > \n",
       "<thead>    <tr> \n",
       "        <th class=\"blank level0\" ></th> \n",
       "        <th class=\"col_heading level0 col0\" >repo</th> \n",
       "        <th class=\"col_heading level0 col1\" >org</th> \n",
       "        <th class=\"col_heading level0 col2\" >provider</th> \n",
       "        <th class=\"col_heading level0 col3\" >launches</th> \n",
       "        <th class=\"col_heading level0 col4\" >repo_url</th> \n",
       "        <th class=\"col_heading level0 col5\" >binder_url</th> \n",
       "    </tr></thead> \n",
       "<tbody>    <tr> \n",
       "        <th id=\"T_5d972b96_e34e_11e8_a6c8_0a580af4037dlevel0_row0\" class=\"row_heading level0 row0\" >0</th> \n",
       "        <td id=\"T_5d972b96_e34e_11e8_a6c8_0a580af4037drow0_col0\" class=\"data row0 col0\" >PythonDataScienceHandbook</td> \n",
       "        <td id=\"T_5d972b96_e34e_11e8_a6c8_0a580af4037drow0_col1\" class=\"data row0 col1\" >gesiscss</td> \n",
       "        <td id=\"T_5d972b96_e34e_11e8_a6c8_0a580af4037drow0_col2\" class=\"data row0 col2\" >GitHub</td> \n",
       "        <td id=\"T_5d972b96_e34e_11e8_a6c8_0a580af4037drow0_col3\" class=\"data row0 col3\" >7</td> \n",
       "        <td id=\"T_5d972b96_e34e_11e8_a6c8_0a580af4037drow0_col4\" class=\"data row0 col4\" ><a target=\"_blank\" href=\"https://github.com/gesiscss/PythonDataScienceHandbook\">repo url</a></td> \n",
       "        <td id=\"T_5d972b96_e34e_11e8_a6c8_0a580af4037drow0_col5\" class=\"data row0 col5\" ><a target=\"_blank\" href=\"https://notebooks.gesis.org/binder/v2/gh/gesiscss/PythonDataScienceHandbook/master\">binder url</a></td> \n",
       "    </tr>    <tr> \n",
       "        <th id=\"T_5d972b96_e34e_11e8_a6c8_0a580af4037dlevel0_row1\" class=\"row_heading level0 row1\" >1</th> \n",
       "        <td id=\"T_5d972b96_e34e_11e8_a6c8_0a580af4037drow1_col0\" class=\"data row1 col0\" >workshop_girls_day</td> \n",
       "        <td id=\"T_5d972b96_e34e_11e8_a6c8_0a580af4037drow1_col1\" class=\"data row1 col1\" >gesiscss</td> \n",
       "        <td id=\"T_5d972b96_e34e_11e8_a6c8_0a580af4037drow1_col2\" class=\"data row1 col2\" >GitHub</td> \n",
       "        <td id=\"T_5d972b96_e34e_11e8_a6c8_0a580af4037drow1_col3\" class=\"data row1 col3\" >4</td> \n",
       "        <td id=\"T_5d972b96_e34e_11e8_a6c8_0a580af4037drow1_col4\" class=\"data row1 col4\" ><a target=\"_blank\" href=\"https://github.com/gesiscss/workshop_girls_day\">repo url</a></td> \n",
       "        <td id=\"T_5d972b96_e34e_11e8_a6c8_0a580af4037drow1_col5\" class=\"data row1 col5\" ><a target=\"_blank\" href=\"https://notebooks.gesis.org/binder/v2/gh/gesiscss/workshop_girls_day/master\">binder url</a></td> \n",
       "    </tr>    <tr> \n",
       "        <th id=\"T_5d972b96_e34e_11e8_a6c8_0a580af4037dlevel0_row2\" class=\"row_heading level0 row2\" >2</th> \n",
       "        <td id=\"T_5d972b96_e34e_11e8_a6c8_0a580af4037drow2_col0\" class=\"data row2 col0\" >ptm</td> \n",
       "        <td id=\"T_5d972b96_e34e_11e8_a6c8_0a580af4037drow2_col1\" class=\"data row2 col1\" >gesiscss</td> \n",
       "        <td id=\"T_5d972b96_e34e_11e8_a6c8_0a580af4037drow2_col2\" class=\"data row2 col2\" >GitHub</td> \n",
       "        <td id=\"T_5d972b96_e34e_11e8_a6c8_0a580af4037drow2_col3\" class=\"data row2 col3\" >2</td> \n",
       "        <td id=\"T_5d972b96_e34e_11e8_a6c8_0a580af4037drow2_col4\" class=\"data row2 col4\" ><a target=\"_blank\" href=\"https://github.com/gesiscss/ptm\">repo url</a></td> \n",
       "        <td id=\"T_5d972b96_e34e_11e8_a6c8_0a580af4037drow2_col5\" class=\"data row2 col5\" ><a target=\"_blank\" href=\"https://notebooks.gesis.org/binder/v2/gh/gesiscss/ptm/master\">binder url</a></td> \n",
       "    </tr>    <tr> \n",
       "        <th id=\"T_5d972b96_e34e_11e8_a6c8_0a580af4037dlevel0_row3\" class=\"row_heading level0 row3\" >3</th> \n",
       "        <td id=\"T_5d972b96_e34e_11e8_a6c8_0a580af4037drow3_col0\" class=\"data row3 col0\" >ligo-binder</td> \n",
       "        <td id=\"T_5d972b96_e34e_11e8_a6c8_0a580af4037drow3_col1\" class=\"data row3 col1\" >minrk</td> \n",
       "        <td id=\"T_5d972b96_e34e_11e8_a6c8_0a580af4037drow3_col2\" class=\"data row3 col2\" >GitHub</td> \n",
       "        <td id=\"T_5d972b96_e34e_11e8_a6c8_0a580af4037drow3_col3\" class=\"data row3 col3\" >2</td> \n",
       "        <td id=\"T_5d972b96_e34e_11e8_a6c8_0a580af4037drow3_col4\" class=\"data row3 col4\" ><a target=\"_blank\" href=\"https://github.com/minrk/ligo-binder\">repo url</a></td> \n",
       "        <td id=\"T_5d972b96_e34e_11e8_a6c8_0a580af4037drow3_col5\" class=\"data row3 col5\" ><a target=\"_blank\" href=\"https://notebooks.gesis.org/binder/v2/gh/minrk/ligo-binder/master\">binder url</a></td> \n",
       "    </tr>    <tr> \n",
       "        <th id=\"T_5d972b96_e34e_11e8_a6c8_0a580af4037dlevel0_row4\" class=\"row_heading level0 row4\" >4</th> \n",
       "        <td id=\"T_5d972b96_e34e_11e8_a6c8_0a580af4037drow4_col0\" class=\"data row4 col0\" >ThinkDSP</td> \n",
       "        <td id=\"T_5d972b96_e34e_11e8_a6c8_0a580af4037drow4_col1\" class=\"data row4 col1\" >AllenDowney</td> \n",
       "        <td id=\"T_5d972b96_e34e_11e8_a6c8_0a580af4037drow4_col2\" class=\"data row4 col2\" >GitHub</td> \n",
       "        <td id=\"T_5d972b96_e34e_11e8_a6c8_0a580af4037drow4_col3\" class=\"data row4 col3\" >1</td> \n",
       "        <td id=\"T_5d972b96_e34e_11e8_a6c8_0a580af4037drow4_col4\" class=\"data row4 col4\" ><a target=\"_blank\" href=\"https://github.com/AllenDowney/ThinkDSP\">repo url</a></td> \n",
       "        <td id=\"T_5d972b96_e34e_11e8_a6c8_0a580af4037drow4_col5\" class=\"data row4 col5\" ><a target=\"_blank\" href=\"https://notebooks.gesis.org/binder/v2/gh/AllenDowney/ThinkDSP/master\">binder url</a></td> \n",
       "    </tr>    <tr> \n",
       "        <th id=\"T_5d972b96_e34e_11e8_a6c8_0a580af4037dlevel0_row5\" class=\"row_heading level0 row5\" >5</th> \n",
       "        <td id=\"T_5d972b96_e34e_11e8_a6c8_0a580af4037drow5_col0\" class=\"data row5 col0\" >requirements</td> \n",
       "        <td id=\"T_5d972b96_e34e_11e8_a6c8_0a580af4037drow5_col1\" class=\"data row5 col1\" >binder-examples</td> \n",
       "        <td id=\"T_5d972b96_e34e_11e8_a6c8_0a580af4037drow5_col2\" class=\"data row5 col2\" >GitHub</td> \n",
       "        <td id=\"T_5d972b96_e34e_11e8_a6c8_0a580af4037drow5_col3\" class=\"data row5 col3\" >1</td> \n",
       "        <td id=\"T_5d972b96_e34e_11e8_a6c8_0a580af4037drow5_col4\" class=\"data row5 col4\" ><a target=\"_blank\" href=\"https://github.com/binder-examples/requirements\">repo url</a></td> \n",
       "        <td id=\"T_5d972b96_e34e_11e8_a6c8_0a580af4037drow5_col5\" class=\"data row5 col5\" ><a target=\"_blank\" href=\"https://notebooks.gesis.org/binder/v2/gh/binder-examples/requirements/master\">binder url</a></td> \n",
       "    </tr>    <tr> \n",
       "        <th id=\"T_5d972b96_e34e_11e8_a6c8_0a580af4037dlevel0_row6\" class=\"row_heading level0 row6\" >6</th> \n",
       "        <td id=\"T_5d972b96_e34e_11e8_a6c8_0a580af4037drow6_col0\" class=\"data row6 col0\" >elegant-scipy</td> \n",
       "        <td id=\"T_5d972b96_e34e_11e8_a6c8_0a580af4037drow6_col1\" class=\"data row6 col1\" >elegant-scipy</td> \n",
       "        <td id=\"T_5d972b96_e34e_11e8_a6c8_0a580af4037drow6_col2\" class=\"data row6 col2\" >GitHub</td> \n",
       "        <td id=\"T_5d972b96_e34e_11e8_a6c8_0a580af4037drow6_col3\" class=\"data row6 col3\" >1</td> \n",
       "        <td id=\"T_5d972b96_e34e_11e8_a6c8_0a580af4037drow6_col4\" class=\"data row6 col4\" ><a target=\"_blank\" href=\"https://github.com/elegant-scipy/elegant-scipy\">repo url</a></td> \n",
       "        <td id=\"T_5d972b96_e34e_11e8_a6c8_0a580af4037drow6_col5\" class=\"data row6 col5\" ><a target=\"_blank\" href=\"https://notebooks.gesis.org/binder/v2/gh/elegant-scipy/elegant-scipy/master\">binder url</a></td> \n",
       "    </tr>    <tr> \n",
       "        <th id=\"T_5d972b96_e34e_11e8_a6c8_0a580af4037dlevel0_row7\" class=\"row_heading level0 row7\" >7</th> \n",
       "        <td id=\"T_5d972b96_e34e_11e8_a6c8_0a580af4037drow7_col0\" class=\"data row7 col0\" >jupyter4kids</td> \n",
       "        <td id=\"T_5d972b96_e34e_11e8_a6c8_0a580af4037drow7_col1\" class=\"data row7 col1\" >mikkokotila</td> \n",
       "        <td id=\"T_5d972b96_e34e_11e8_a6c8_0a580af4037drow7_col2\" class=\"data row7 col2\" >GitHub</td> \n",
       "        <td id=\"T_5d972b96_e34e_11e8_a6c8_0a580af4037drow7_col3\" class=\"data row7 col3\" >1</td> \n",
       "        <td id=\"T_5d972b96_e34e_11e8_a6c8_0a580af4037drow7_col4\" class=\"data row7 col4\" ><a target=\"_blank\" href=\"https://github.com/mikkokotila/jupyter4kids\">repo url</a></td> \n",
       "        <td id=\"T_5d972b96_e34e_11e8_a6c8_0a580af4037drow7_col5\" class=\"data row7 col5\" ><a target=\"_blank\" href=\"https://notebooks.gesis.org/binder/v2/gh/mikkokotila/jupyter4kids/master\">binder url</a></td> \n",
       "    </tr>    <tr> \n",
       "        <th id=\"T_5d972b96_e34e_11e8_a6c8_0a580af4037dlevel0_row8\" class=\"row_heading level0 row8\" >8</th> \n",
       "        <td id=\"T_5d972b96_e34e_11e8_a6c8_0a580af4037drow8_col0\" class=\"data row8 col0\" >dl-workshop</td> \n",
       "        <td id=\"T_5d972b96_e34e_11e8_a6c8_0a580af4037drow8_col1\" class=\"data row8 col1\" >pacm</td> \n",
       "        <td id=\"T_5d972b96_e34e_11e8_a6c8_0a580af4037drow8_col2\" class=\"data row8 col2\" >GitHub</td> \n",
       "        <td id=\"T_5d972b96_e34e_11e8_a6c8_0a580af4037drow8_col3\" class=\"data row8 col3\" >1</td> \n",
       "        <td id=\"T_5d972b96_e34e_11e8_a6c8_0a580af4037drow8_col4\" class=\"data row8 col4\" ><a target=\"_blank\" href=\"https://github.com/pacm/dl-workshop\">repo url</a></td> \n",
       "        <td id=\"T_5d972b96_e34e_11e8_a6c8_0a580af4037drow8_col5\" class=\"data row8 col5\" ><a target=\"_blank\" href=\"https://notebooks.gesis.org/binder/v2/gh/pacm/dl-workshop/master\">binder url</a></td> \n",
       "    </tr>    <tr> \n",
       "        <th id=\"T_5d972b96_e34e_11e8_a6c8_0a580af4037dlevel0_row9\" class=\"row_heading level0 row9\" >9</th> \n",
       "        <td id=\"T_5d972b96_e34e_11e8_a6c8_0a580af4037drow9_col0\" class=\"data row9 col0\" >tetris-binder</td> \n",
       "        <td id=\"T_5d972b96_e34e_11e8_a6c8_0a580af4037drow9_col1\" class=\"data row9 col1\" >djsegal</td> \n",
       "        <td id=\"T_5d972b96_e34e_11e8_a6c8_0a580af4037drow9_col2\" class=\"data row9 col2\" >GitHub</td> \n",
       "        <td id=\"T_5d972b96_e34e_11e8_a6c8_0a580af4037drow9_col3\" class=\"data row9 col3\" >1</td> \n",
       "        <td id=\"T_5d972b96_e34e_11e8_a6c8_0a580af4037drow9_col4\" class=\"data row9 col4\" ><a target=\"_blank\" href=\"https://github.com/djsegal/tetris-binder\">repo url</a></td> \n",
       "        <td id=\"T_5d972b96_e34e_11e8_a6c8_0a580af4037drow9_col5\" class=\"data row9 col5\" ><a target=\"_blank\" href=\"https://notebooks.gesis.org/binder/v2/gh/djsegal/tetris-binder/master\">binder url</a></td> \n",
       "    </tr>    <tr> \n",
       "        <th id=\"T_5d972b96_e34e_11e8_a6c8_0a580af4037dlevel0_row10\" class=\"row_heading level0 row10\" >10</th> \n",
       "        <td id=\"T_5d972b96_e34e_11e8_a6c8_0a580af4037drow10_col0\" class=\"data row10 col0\" >demo-jupyterlab</td> \n",
       "        <td id=\"T_5d972b96_e34e_11e8_a6c8_0a580af4037drow10_col1\" class=\"data row10 col1\" >raphbacher</td> \n",
       "        <td id=\"T_5d972b96_e34e_11e8_a6c8_0a580af4037drow10_col2\" class=\"data row10 col2\" >GitHub</td> \n",
       "        <td id=\"T_5d972b96_e34e_11e8_a6c8_0a580af4037drow10_col3\" class=\"data row10 col3\" >1</td> \n",
       "        <td id=\"T_5d972b96_e34e_11e8_a6c8_0a580af4037drow10_col4\" class=\"data row10 col4\" ><a target=\"_blank\" href=\"https://github.com/raphbacher/demo-jupyterlab\">repo url</a></td> \n",
       "        <td id=\"T_5d972b96_e34e_11e8_a6c8_0a580af4037drow10_col5\" class=\"data row10 col5\" ><a target=\"_blank\" href=\"https://notebooks.gesis.org/binder/v2/gh/raphbacher/demo-jupyterlab/master\">binder url</a></td> \n",
       "    </tr></tbody> \n",
       "</table> "
      ],
      "text/plain": [
       "<pandas.io.formats.style.Styler at 0x7f92a3081630>"
      ]
     },
     "metadata": {},
     "output_type": "display_data"
    },
    {
     "name": "stdout",
     "output_type": "stream",
     "text": [
      "Total number of launches: 22 in 60d\n"
     ]
    }
   ],
   "source": [
    "display_df('60d')"
   ]
  }
 ],
 "metadata": {
  "kernelspec": {
   "display_name": "Python 3",
   "language": "python",
   "name": "python3"
  },
  "language_info": {
   "codemirror_mode": {
    "name": "ipython",
    "version": 3
   },
   "file_extension": ".py",
   "mimetype": "text/x-python",
   "name": "python",
   "nbconvert_exporter": "python",
   "pygments_lexer": "ipython3",
   "version": "3.7.0"
  }
 },
 "nbformat": 4,
 "nbformat_minor": 2
}
