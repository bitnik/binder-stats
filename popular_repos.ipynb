{
 "cells": [
  {
   "cell_type": "code",
   "execution_count": 1,
   "metadata": {},
   "outputs": [],
   "source": [
    "import numpy as np\n",
    "import pandas as pd\n",
    "import requests\n",
    "from datetime import datetime, timedelta"
   ]
  },
  {
   "cell_type": "code",
   "execution_count": 2,
   "metadata": {},
   "outputs": [],
   "source": [
    "def binder_url(org, repo):\n",
    "    return f'https://notebooks.gesis.org/binder/v2/gh/{org}/{repo}/master'"
   ]
  },
  {
   "cell_type": "code",
   "execution_count": 3,
   "metadata": {},
   "outputs": [],
   "source": [
    "def ts_to_dt(ts):\n",
    "    return datetime.utcfromtimestamp(ts)"
   ]
  },
  {
   "cell_type": "markdown",
   "metadata": {},
   "source": [
    "# The most popular repositories"
   ]
  },
  {
   "cell_type": "code",
   "execution_count": 4,
   "metadata": {},
   "outputs": [],
   "source": [
    "def query(time_range):\n",
    "    query = 'binderhub_launch_time_seconds_count{}[{}]'\n",
    "    query_selectors = \"{status='success'}\"\n",
    "    query = query.format(query_selectors, time_range)\n",
    "    print(query)\n",
    "    resp = requests.get('https://notebooks.gesis.org/prometheus/api/v1/query', params={'query': query})\n",
    "    data = resp.json()['data']['result']\n",
    "    return data"
   ]
  },
  {
   "cell_type": "code",
   "execution_count": 5,
   "metadata": {},
   "outputs": [],
   "source": [
    "def makedf(data, start_time):\n",
    "    df = {'name': [], 'org': [], 'provider': [], 'launches': [], 'repo_url': [], 'binder_url': []}\n",
    "    for container in data:\n",
    "        repo_url = container['metric']['repo']\n",
    "        pref, org, repo = container['metric']['repo'].rsplit('/', 2)\n",
    "        provider = pref.replace('https://', '')\n",
    "        \n",
    "        values = [int(ii[1]) for ii in container['values']]\n",
    "        first_value_ts = container['values'][0][0]\n",
    "        first_value_dt = datetime.utcfromtimestamp(first_value_ts)\n",
    "        # first_value = values[0]\n",
    "        #if first_value_dt > start_time:\n",
    "        #    assert first_value == 1, f'{org}/{repo}---{first_value}---{first_value_dt}---{start_time}'\n",
    "        if first_value_dt > start_time:\n",
    "            # NOTE first_value can be > 1 if there are simultaneous launches\n",
    "            print(repo, first_value_dt, start_time)\n",
    "            launches = max(values)\n",
    "        else:\n",
    "            launches = max(values) - min(values)\n",
    "                \n",
    "        # print(repo_url, launches, container['metric']['status'], container['metric']['retries'])\n",
    "        if repo in df['name']:\n",
    "            # same repo can have status success with different retries value\n",
    "            i = df['name'].index(repo)\n",
    "            df['launches'][i] += launches\n",
    "        else:            \n",
    "            df['name'].append(repo)\n",
    "            df['org'].append(org)\n",
    "            df['provider'].append(provider)\n",
    "            df['launches'].append(launches)\n",
    "            df['repo_url'].append(repo_url)\n",
    "            df['binder_url'].append(binder_url(org, repo))\n",
    "    df = pd.DataFrame(df)\n",
    "    df = df.drop_duplicates(['name'])\n",
    "    df = df.groupby(['name', 'org', 'provider','repo_url', 'binder_url']).sum().reset_index().sort_values('launches', ascending=False)\n",
    "    df['log_launches'] = df['launches'].apply(np.log)\n",
    "    return df"
   ]
  },
  {
   "cell_type": "markdown",
   "metadata": {},
   "source": [
    "## The most popular repositories in last hour"
   ]
  },
  {
   "cell_type": "code",
   "execution_count": 6,
   "metadata": {},
   "outputs": [
    {
     "name": "stdout",
     "output_type": "stream",
     "text": [
      "binderhub_launch_time_seconds_count{status='success'}[24h]\n",
      "BIGSSS 2018-10-11 06:43:44.244000 2018-10-11 06:43:06.161374\n",
      "gesis-meta-analysis-2018 2018-10-11 08:46:44.244000 2018-10-11 06:43:06.161374\n",
      "bokeh 2018-10-11 06:43:44.244000 2018-10-11 06:43:06.161374\n",
      "r 2018-10-11 22:26:44.244000 2018-10-11 06:43:06.161374\n",
      "PythonDataScienceHandbook 2018-10-11 06:43:44.244000 2018-10-11 06:43:06.161374\n",
      "binder-stats 2018-10-11 06:43:44.244000 2018-10-11 06:43:06.161374\n",
      "flow 2018-10-11 10:59:44.244000 2018-10-11 06:43:06.161374\n",
      "workshop_girls_day 2018-10-11 06:43:44.244000 2018-10-11 06:43:06.161374\n",
      "ligo-binder 2018-10-11 06:43:44.244000 2018-10-11 06:43:06.161374\n"
     ]
    }
   ],
   "source": [
    "hour = 24\n",
    "data = query(f'{hour}h')\n",
    "start_time = datetime.utcnow() - timedelta(hours=hour)\n",
    "df = makedf(data, start_time)"
   ]
  },
  {
   "cell_type": "code",
   "execution_count": 7,
   "metadata": {},
   "outputs": [
    {
     "data": {
      "text/html": [
       "<style  type=\"text/css\" >\n",
       "</style>  \n",
       "<table id=\"T_13872750_cdea_11e8_827d_0a580af403f3\" > \n",
       "<thead>    <tr> \n",
       "        <th class=\"blank level0\" ></th> \n",
       "        <th class=\"col_heading level0 col0\" >name</th> \n",
       "        <th class=\"col_heading level0 col1\" >org</th> \n",
       "        <th class=\"col_heading level0 col2\" >provider</th> \n",
       "        <th class=\"col_heading level0 col3\" >repo_url</th> \n",
       "        <th class=\"col_heading level0 col4\" >binder_url</th> \n",
       "        <th class=\"col_heading level0 col5\" >launches</th> \n",
       "        <th class=\"col_heading level0 col6\" >log_launches</th> \n",
       "    </tr></thead> \n",
       "<tbody>    <tr> \n",
       "        <th id=\"T_13872750_cdea_11e8_827d_0a580af403f3level0_row0\" class=\"row_heading level0 row0\" >1</th> \n",
       "        <td id=\"T_13872750_cdea_11e8_827d_0a580af403f3row0_col0\" class=\"data row0 col0\" >PythonDataScienceHandbook</td> \n",
       "        <td id=\"T_13872750_cdea_11e8_827d_0a580af403f3row0_col1\" class=\"data row0 col1\" >gesiscss</td> \n",
       "        <td id=\"T_13872750_cdea_11e8_827d_0a580af403f3row0_col2\" class=\"data row0 col2\" >github.com</td> \n",
       "        <td id=\"T_13872750_cdea_11e8_827d_0a580af403f3row0_col3\" class=\"data row0 col3\" ><a target=\"_blank\" href=\"https://github.com/gesiscss/PythonDataScienceHandbook\">repo url</a></td> \n",
       "        <td id=\"T_13872750_cdea_11e8_827d_0a580af403f3row0_col4\" class=\"data row0 col4\" ><a target=\"_blank\" href=\"https://notebooks.gesis.org/binder/v2/gh/gesiscss/PythonDataScienceHandbook/master\">binder url</a></td> \n",
       "        <td id=\"T_13872750_cdea_11e8_827d_0a580af403f3row0_col5\" class=\"data row0 col5\" >20</td> \n",
       "        <td id=\"T_13872750_cdea_11e8_827d_0a580af403f3row0_col6\" class=\"data row0 col6\" >2.99573</td> \n",
       "    </tr>    <tr> \n",
       "        <th id=\"T_13872750_cdea_11e8_827d_0a580af403f3level0_row1\" class=\"row_heading level0 row1\" >8</th> \n",
       "        <td id=\"T_13872750_cdea_11e8_827d_0a580af403f3row1_col0\" class=\"data row1 col0\" >workshop_girls_day</td> \n",
       "        <td id=\"T_13872750_cdea_11e8_827d_0a580af403f3row1_col1\" class=\"data row1 col1\" >gesiscss</td> \n",
       "        <td id=\"T_13872750_cdea_11e8_827d_0a580af403f3row1_col2\" class=\"data row1 col2\" >github.com</td> \n",
       "        <td id=\"T_13872750_cdea_11e8_827d_0a580af403f3row1_col3\" class=\"data row1 col3\" ><a target=\"_blank\" href=\"https://github.com/gesiscss/workshop_girls_day\">repo url</a></td> \n",
       "        <td id=\"T_13872750_cdea_11e8_827d_0a580af403f3row1_col4\" class=\"data row1 col4\" ><a target=\"_blank\" href=\"https://notebooks.gesis.org/binder/v2/gh/gesiscss/workshop_girls_day/master\">binder url</a></td> \n",
       "        <td id=\"T_13872750_cdea_11e8_827d_0a580af403f3row1_col5\" class=\"data row1 col5\" >8</td> \n",
       "        <td id=\"T_13872750_cdea_11e8_827d_0a580af403f3row1_col6\" class=\"data row1 col6\" >2.07944</td> \n",
       "    </tr>    <tr> \n",
       "        <th id=\"T_13872750_cdea_11e8_827d_0a580af403f3level0_row2\" class=\"row_heading level0 row2\" >2</th> \n",
       "        <td id=\"T_13872750_cdea_11e8_827d_0a580af403f3row2_col0\" class=\"data row2 col0\" >binder-stats</td> \n",
       "        <td id=\"T_13872750_cdea_11e8_827d_0a580af403f3row2_col1\" class=\"data row2 col1\" >gesiscss</td> \n",
       "        <td id=\"T_13872750_cdea_11e8_827d_0a580af403f3row2_col2\" class=\"data row2 col2\" >github.com</td> \n",
       "        <td id=\"T_13872750_cdea_11e8_827d_0a580af403f3row2_col3\" class=\"data row2 col3\" ><a target=\"_blank\" href=\"https://github.com/gesiscss/binder-stats\">repo url</a></td> \n",
       "        <td id=\"T_13872750_cdea_11e8_827d_0a580af403f3row2_col4\" class=\"data row2 col4\" ><a target=\"_blank\" href=\"https://notebooks.gesis.org/binder/v2/gh/gesiscss/binder-stats/master\">binder url</a></td> \n",
       "        <td id=\"T_13872750_cdea_11e8_827d_0a580af403f3row2_col5\" class=\"data row2 col5\" >6</td> \n",
       "        <td id=\"T_13872750_cdea_11e8_827d_0a580af403f3row2_col6\" class=\"data row2 col6\" >1.79176</td> \n",
       "    </tr>    <tr> \n",
       "        <th id=\"T_13872750_cdea_11e8_827d_0a580af403f3level0_row3\" class=\"row_heading level0 row3\" >6</th> \n",
       "        <td id=\"T_13872750_cdea_11e8_827d_0a580af403f3row3_col0\" class=\"data row3 col0\" >ligo-binder</td> \n",
       "        <td id=\"T_13872750_cdea_11e8_827d_0a580af403f3row3_col1\" class=\"data row3 col1\" >minrk</td> \n",
       "        <td id=\"T_13872750_cdea_11e8_827d_0a580af403f3row3_col2\" class=\"data row3 col2\" >github.com</td> \n",
       "        <td id=\"T_13872750_cdea_11e8_827d_0a580af403f3row3_col3\" class=\"data row3 col3\" ><a target=\"_blank\" href=\"https://github.com/minrk/ligo-binder\">repo url</a></td> \n",
       "        <td id=\"T_13872750_cdea_11e8_827d_0a580af403f3row3_col4\" class=\"data row3 col4\" ><a target=\"_blank\" href=\"https://notebooks.gesis.org/binder/v2/gh/minrk/ligo-binder/master\">binder url</a></td> \n",
       "        <td id=\"T_13872750_cdea_11e8_827d_0a580af403f3row3_col5\" class=\"data row3 col5\" >5</td> \n",
       "        <td id=\"T_13872750_cdea_11e8_827d_0a580af403f3row3_col6\" class=\"data row3 col6\" >1.60944</td> \n",
       "    </tr>    <tr> \n",
       "        <th id=\"T_13872750_cdea_11e8_827d_0a580af403f3level0_row4\" class=\"row_heading level0 row4\" >0</th> \n",
       "        <td id=\"T_13872750_cdea_11e8_827d_0a580af403f3row4_col0\" class=\"data row4 col0\" >BIGSSS</td> \n",
       "        <td id=\"T_13872750_cdea_11e8_827d_0a580af403f3row4_col1\" class=\"data row4 col1\" >JuKo007</td> \n",
       "        <td id=\"T_13872750_cdea_11e8_827d_0a580af403f3row4_col2\" class=\"data row4 col2\" >github.com</td> \n",
       "        <td id=\"T_13872750_cdea_11e8_827d_0a580af403f3row4_col3\" class=\"data row4 col3\" ><a target=\"_blank\" href=\"https://github.com/JuKo007/BIGSSS\">repo url</a></td> \n",
       "        <td id=\"T_13872750_cdea_11e8_827d_0a580af403f3row4_col4\" class=\"data row4 col4\" ><a target=\"_blank\" href=\"https://notebooks.gesis.org/binder/v2/gh/JuKo007/BIGSSS/master\">binder url</a></td> \n",
       "        <td id=\"T_13872750_cdea_11e8_827d_0a580af403f3row4_col5\" class=\"data row4 col5\" >1</td> \n",
       "        <td id=\"T_13872750_cdea_11e8_827d_0a580af403f3row4_col6\" class=\"data row4 col6\" >0</td> \n",
       "    </tr>    <tr> \n",
       "        <th id=\"T_13872750_cdea_11e8_827d_0a580af403f3level0_row5\" class=\"row_heading level0 row5\" >3</th> \n",
       "        <td id=\"T_13872750_cdea_11e8_827d_0a580af403f3row5_col0\" class=\"data row5 col0\" >bokeh</td> \n",
       "        <td id=\"T_13872750_cdea_11e8_827d_0a580af403f3row5_col1\" class=\"data row5 col1\" >binder-examples</td> \n",
       "        <td id=\"T_13872750_cdea_11e8_827d_0a580af403f3row5_col2\" class=\"data row5 col2\" >github.com</td> \n",
       "        <td id=\"T_13872750_cdea_11e8_827d_0a580af403f3row5_col3\" class=\"data row5 col3\" ><a target=\"_blank\" href=\"https://github.com/binder-examples/bokeh\">repo url</a></td> \n",
       "        <td id=\"T_13872750_cdea_11e8_827d_0a580af403f3row5_col4\" class=\"data row5 col4\" ><a target=\"_blank\" href=\"https://notebooks.gesis.org/binder/v2/gh/binder-examples/bokeh/master\">binder url</a></td> \n",
       "        <td id=\"T_13872750_cdea_11e8_827d_0a580af403f3row5_col5\" class=\"data row5 col5\" >1</td> \n",
       "        <td id=\"T_13872750_cdea_11e8_827d_0a580af403f3row5_col6\" class=\"data row5 col6\" >0</td> \n",
       "    </tr>    <tr> \n",
       "        <th id=\"T_13872750_cdea_11e8_827d_0a580af403f3level0_row6\" class=\"row_heading level0 row6\" >4</th> \n",
       "        <td id=\"T_13872750_cdea_11e8_827d_0a580af403f3row6_col0\" class=\"data row6 col0\" >flow</td> \n",
       "        <td id=\"T_13872750_cdea_11e8_827d_0a580af403f3row6_col1\" class=\"data row6 col1\" >gesiscss</td> \n",
       "        <td id=\"T_13872750_cdea_11e8_827d_0a580af403f3row6_col2\" class=\"data row6 col2\" >github.com</td> \n",
       "        <td id=\"T_13872750_cdea_11e8_827d_0a580af403f3row6_col3\" class=\"data row6 col3\" ><a target=\"_blank\" href=\"https://github.com/gesiscss/flow\">repo url</a></td> \n",
       "        <td id=\"T_13872750_cdea_11e8_827d_0a580af403f3row6_col4\" class=\"data row6 col4\" ><a target=\"_blank\" href=\"https://notebooks.gesis.org/binder/v2/gh/gesiscss/flow/master\">binder url</a></td> \n",
       "        <td id=\"T_13872750_cdea_11e8_827d_0a580af403f3row6_col5\" class=\"data row6 col5\" >1</td> \n",
       "        <td id=\"T_13872750_cdea_11e8_827d_0a580af403f3row6_col6\" class=\"data row6 col6\" >0</td> \n",
       "    </tr>    <tr> \n",
       "        <th id=\"T_13872750_cdea_11e8_827d_0a580af403f3level0_row7\" class=\"row_heading level0 row7\" >5</th> \n",
       "        <td id=\"T_13872750_cdea_11e8_827d_0a580af403f3row7_col0\" class=\"data row7 col0\" >gesis-meta-analysis-2018</td> \n",
       "        <td id=\"T_13872750_cdea_11e8_827d_0a580af403f3row7_col1\" class=\"data row7 col1\" >berndweiss</td> \n",
       "        <td id=\"T_13872750_cdea_11e8_827d_0a580af403f3row7_col2\" class=\"data row7 col2\" >github.com</td> \n",
       "        <td id=\"T_13872750_cdea_11e8_827d_0a580af403f3row7_col3\" class=\"data row7 col3\" ><a target=\"_blank\" href=\"https://github.com/berndweiss/gesis-meta-analysis-2018\">repo url</a></td> \n",
       "        <td id=\"T_13872750_cdea_11e8_827d_0a580af403f3row7_col4\" class=\"data row7 col4\" ><a target=\"_blank\" href=\"https://notebooks.gesis.org/binder/v2/gh/berndweiss/gesis-meta-analysis-2018/master\">binder url</a></td> \n",
       "        <td id=\"T_13872750_cdea_11e8_827d_0a580af403f3row7_col5\" class=\"data row7 col5\" >1</td> \n",
       "        <td id=\"T_13872750_cdea_11e8_827d_0a580af403f3row7_col6\" class=\"data row7 col6\" >0</td> \n",
       "    </tr>    <tr> \n",
       "        <th id=\"T_13872750_cdea_11e8_827d_0a580af403f3level0_row8\" class=\"row_heading level0 row8\" >7</th> \n",
       "        <td id=\"T_13872750_cdea_11e8_827d_0a580af403f3row8_col0\" class=\"data row8 col0\" >r</td> \n",
       "        <td id=\"T_13872750_cdea_11e8_827d_0a580af403f3row8_col1\" class=\"data row8 col1\" >binder-examples</td> \n",
       "        <td id=\"T_13872750_cdea_11e8_827d_0a580af403f3row8_col2\" class=\"data row8 col2\" >github.com</td> \n",
       "        <td id=\"T_13872750_cdea_11e8_827d_0a580af403f3row8_col3\" class=\"data row8 col3\" ><a target=\"_blank\" href=\"https://github.com/binder-examples/r\">repo url</a></td> \n",
       "        <td id=\"T_13872750_cdea_11e8_827d_0a580af403f3row8_col4\" class=\"data row8 col4\" ><a target=\"_blank\" href=\"https://notebooks.gesis.org/binder/v2/gh/binder-examples/r/master\">binder url</a></td> \n",
       "        <td id=\"T_13872750_cdea_11e8_827d_0a580af403f3row8_col5\" class=\"data row8 col5\" >1</td> \n",
       "        <td id=\"T_13872750_cdea_11e8_827d_0a580af403f3row8_col6\" class=\"data row8 col6\" >0</td> \n",
       "    </tr></tbody> \n",
       "</table> "
      ],
      "text/plain": [
       "<pandas.io.formats.style.Styler at 0x7f65733fe978>"
      ]
     },
     "execution_count": 7,
     "metadata": {},
     "output_type": "execute_result"
    }
   ],
   "source": [
    "df.style.format({'repo_url':lambda x: f'<a target=\"_blank\" href=\"{x}\">repo url</a>', \n",
    "                 'binder_url': lambda x: f'<a target=\"_blank\" href=\"{x}\">binder url</a>'})"
   ]
  },
  {
   "cell_type": "code",
   "execution_count": null,
   "metadata": {},
   "outputs": [],
   "source": []
  }
 ],
 "metadata": {
  "kernelspec": {
   "display_name": "Python 3",
   "language": "python",
   "name": "python3"
  },
  "language_info": {
   "codemirror_mode": {
    "name": "ipython",
    "version": 3
   },
   "file_extension": ".py",
   "mimetype": "text/x-python",
   "name": "python",
   "nbconvert_exporter": "python",
   "pygments_lexer": "ipython3",
   "version": "3.7.0"
  }
 },
 "nbformat": 4,
 "nbformat_minor": 2
}
