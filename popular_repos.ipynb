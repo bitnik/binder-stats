{
 "cells": [
  {
   "cell_type": "markdown",
   "metadata": {},
   "source": [
    "# Popular Repositories (using Prometheus)"
   ]
  },
  {
   "cell_type": "code",
   "execution_count": null,
   "metadata": {},
   "outputs": [],
   "source": [
    "import pandas as pd\n",
    "import requests\n",
    "from datetime import datetime, timedelta, timezone"
   ]
  },
  {
   "cell_type": "code",
   "execution_count": null,
   "metadata": {},
   "outputs": [],
   "source": [
    "PROVIDER_PREFIXES = {\n",
    "    'Git': 'git',\n",
    "    'GitHub': 'gh',\n",
    "    'GitLab': 'gl',\n",
    "    # 'gist.github.com': 'gist',\n",
    "}"
   ]
  },
  {
   "cell_type": "code",
   "execution_count": null,
   "metadata": {},
   "outputs": [],
   "source": [
    "def binder_url(provider, org, repo):\n",
    "    #  url in last column in gallery to launch repository we call in d - list\n",
    "    provider_prefix = PROVIDER_PREFIXES.get(provider, '')\n",
    "    if provider_prefix:\n",
    "        return f'https://notebooks.gesis.org/binder/v2/{provider_prefix}/{org}/{repo}/master'\n",
    "    return ''"
   ]
  },
  {
   "cell_type": "code",
   "execution_count": null,
   "metadata": {},
   "outputs": [],
   "source": [
    "def ts_to_dt(ts):\n",
    "    # timestamp to datetime 1544621843= 12.12.2018 14:26:34\n",
    "    return datetime.utcfromtimestamp(ts)"
   ]
  },
  {
   "cell_type": "markdown",
   "metadata": {},
   "source": [
    "# Launch data"
   ]
  },
  {
   "cell_type": "code",
   "execution_count": null,
   "metadata": {},
   "outputs": [],
   "source": [
    "REPOS_TO_FILTER = [\n",
    "    # 'gesiscss/binder-stats'\n",
    "]"
   ]
  },
  {
   "cell_type": "code",
   "execution_count": null,
   "metadata": {},
   "outputs": [],
   "source": [
    "def get_launch_data(time_range='90d', filter_=\"{status='success'}\"):\n",
    "    # query in promotheus to take all data (90d)\n",
    "    # NOTE: increase() doesn't return first +1 (0->1)\n",
    "    # query = f\"increase(binderhub_launch_count_total{filter_}[{time_range}])\"\n",
    "    query = f\"binderhub_launch_count_total{filter_}[{time_range}]\"\n",
    "    print(query)\n",
    "    resp = requests.get('https://notebooks.gesis.org/prometheus/api/v1/query',\n",
    "                        params={'query': query})\n",
    "    data = resp.json()['data']['result']\n",
    "    return data"
   ]
  },
  {
   "cell_type": "code",
   "execution_count": null,
   "metadata": {},
   "outputs": [],
   "source": [
    "def process_launch_data(data):\n",
    "    d = {}  # {repo_url: [repo, org, provider, [launches], repo_url, binder_url]}\n",
    "    for container in data:\n",
    "        # first get meta data\n",
    "        # e.g row in data: provider=\"GitHub\",repo=\"https://github.com/gesiscss/ptm\" , status=\"success\"}\n",
    "        repo_url = container['metric']['repo']\n",
    "        provider = container['metric']['provider']\n",
    "        provider_org_repo = repo_url.replace('https://', '').rstrip('.git').rsplit('/', 2)\n",
    "        if len(provider_org_repo) == 2:\n",
    "            # some repo urls (e.g. gist) don't contain org/user info\n",
    "            provider, repo = provider_org_repo\n",
    "            org = ''\n",
    "        else:\n",
    "            provider_, org, repo = provider_org_repo\n",
    "        if f'{org}/{repo}' in REPOS_TO_FILTER:\n",
    "            continue\n",
    "        # detect changes of launch count\n",
    "        # get ts of each increase of launch count\n",
    "        launch_count_increases = []\n",
    "        launch_count_prev = 0\n",
    "\n",
    "        # e.g of container['value'] (1542986164.636, 1)\n",
    "        for ts, launch_count in container['values']:\n",
    "            launch_count = int(launch_count)\n",
    "            if launch_count != launch_count_prev:\n",
    "                # assert launch_count > launch_count_prev\n",
    "                launch_count_increases.append((ts, launch_count))\n",
    "            launch_count_prev = launch_count\n",
    "\n",
    "        if repo_url not in d:\n",
    "            d[repo_url] = [repo, org, provider, [launch_count_increases], repo_url, binder_url(provider, org, repo)]\n",
    "        else:\n",
    "            # same repo can be launched on different instances (after a new deployment/update)\n",
    "            d[repo_url][3].append(launch_count_increases)\n",
    "\n",
    "    # sort and flatten launch_count_increases\n",
    "    for _, data in d.items():\n",
    "        launch_count_increases_ = []\n",
    "        count_prev = 0\n",
    "        launch_count_increases = data[3]\n",
    "        # sort with timestamp (of first element of each sub-list)\n",
    "        launch_count_increases.sort(key=lambda x: x[0][0])\n",
    "        for increase in launch_count_increases:\n",
    "            for i in increase:\n",
    "                launch_count_increases_.append((ts_to_dt(i[0]), i[1] + count_prev))\n",
    "            count_prev = launch_count_increases_[-1][1]\n",
    "        data[3] = launch_count_increases_\n",
    "\n",
    "    #     print('Since', ts_to_dt(min(value_times)), 'in UTC')\n",
    "    d = list(d.values())\n",
    "    return d"
   ]
  },
  {
   "cell_type": "code",
   "execution_count": null,
   "metadata": {},
   "outputs": [],
   "source": [
    "launch_data = get_launch_data()\n",
    "launch_data = process_launch_data(launch_data)"
   ]
  },
  {
   "cell_type": "markdown",
   "metadata": {},
   "source": [
    "# Popular Repos"
   ]
  },
  {
   "cell_type": "code",
   "execution_count": null,
   "metadata": {},
   "outputs": [],
   "source": [
    "def get_popular_repos(launch_data, time_range):\n",
    "    if time_range.endswith('h'):\n",
    "        p = {'hours': int(time_range.split('h')[0])}\n",
    "    elif time_range.endswith('d'):\n",
    "        p = {'days': int(time_range.split('d')[0])}\n",
    "    else:\n",
    "        raise ValueError('Time range must be in hours or days.')\n",
    "    popular_repos = []\n",
    "    time_delta = timedelta(**p)\n",
    "    start_dt = datetime.utcnow() - time_delta\n",
    "    for data in launch_data:\n",
    "        # get the launch count just before time_range\n",
    "        first_value = 0\n",
    "        for dt, launch_count in data[3]:\n",
    "            if dt < start_dt:\n",
    "                first_value = launch_count\n",
    "        # increase in launch count during time_range\n",
    "        data[3] = launch_count - first_value\n",
    "        if data[3] != 0:\n",
    "            popular_repos.append(data)\n",
    "    # sort according to launch count\n",
    "    popular_repos.sort(key=lambda x: x[3], reverse=True)\n",
    "    print(\"Total number of launches: \" + str(sum([i[3] for i in popular_repos])) + \" in \" + str(time_range))\n",
    "    print(\"Number of repos launched: \" + str(len(popular_repos)))\n",
    "    return popular_repos"
   ]
  },
  {
   "cell_type": "code",
   "execution_count": null,
   "metadata": {},
   "outputs": [],
   "source": [
    "def display_popular_repos(data):\n",
    "    df = pd.DataFrame(data, \n",
    "                      columns = ['repo', 'org', 'provider', 'launches', 'repo_url', 'binder_url'])\n",
    "    df = df.sort_values('launches', ascending=False).reset_index(drop=True)\n",
    "    df = df.style.format({'repo_url':lambda x: f'<a target=\"_blank\" href=\"{x}\">repo url</a>', \n",
    "                          'binder_url': lambda x: f'<a target=\"_blank\" href=\"{x}\">binder url</a>'})\n",
    "    display(df)"
   ]
  },
  {
   "cell_type": "code",
   "execution_count": null,
   "metadata": {},
   "outputs": [],
   "source": [
    "from copy import deepcopy"
   ]
  },
  {
   "cell_type": "markdown",
   "metadata": {},
   "source": [
    "## Popular repositories in last 1 hour"
   ]
  },
  {
   "cell_type": "code",
   "execution_count": null,
   "metadata": {},
   "outputs": [],
   "source": [
    "launch_data_ = deepcopy(launch_data)\n",
    "popular_repos = get_popular_repos(launch_data_, '1h')\n",
    "display_popular_repos(popular_repos)"
   ]
  },
  {
   "cell_type": "markdown",
   "metadata": {},
   "source": [
    "## Popular repositories in last 24 hours"
   ]
  },
  {
   "cell_type": "code",
   "execution_count": null,
   "metadata": {
    "scrolled": true
   },
   "outputs": [],
   "source": [
    "launch_data_ = deepcopy(launch_data)\n",
    "popular_repos = get_popular_repos(launch_data_, '24h')\n",
    "display_popular_repos(popular_repos)"
   ]
  },
  {
   "cell_type": "markdown",
   "metadata": {},
   "source": [
    "## Popular repositories in last week"
   ]
  },
  {
   "cell_type": "code",
   "execution_count": null,
   "metadata": {
    "scrolled": true
   },
   "outputs": [],
   "source": [
    "launch_data_ = deepcopy(launch_data)\n",
    "popular_repos = get_popular_repos(launch_data_, '7d')\n",
    "display_popular_repos(popular_repos)"
   ]
  },
  {
   "cell_type": "markdown",
   "metadata": {},
   "source": [
    "## Popular repositories in the last 30 days "
   ]
  },
  {
   "cell_type": "code",
   "execution_count": null,
   "metadata": {
    "scrolled": true
   },
   "outputs": [],
   "source": [
    "launch_data_ = deepcopy(launch_data)\n",
    "popular_repos = get_popular_repos(launch_data_, '30d')\n",
    "display_popular_repos(popular_repos)"
   ]
  },
  {
   "cell_type": "markdown",
   "metadata": {},
   "source": [
    "## Popular repositories in the last 60 days "
   ]
  },
  {
   "cell_type": "code",
   "execution_count": null,
   "metadata": {
    "scrolled": true
   },
   "outputs": [],
   "source": [
    "launch_data_ = deepcopy(launch_data)\n",
    "popular_repos = get_popular_repos(launch_data_, '60d')\n",
    "display_popular_repos(popular_repos)"
   ]
  },
  {
   "cell_type": "markdown",
   "metadata": {},
   "source": [
    "## Popular repositories in the last 90 days "
   ]
  },
  {
   "cell_type": "code",
   "execution_count": null,
   "metadata": {},
   "outputs": [],
   "source": [
    "launch_data_ = deepcopy(launch_data)\n",
    "popular_repos = get_popular_repos(launch_data_, '90d')\n",
    "display_popular_repos(popular_repos)"
   ]
  },
  {
   "cell_type": "code",
   "execution_count": null,
   "metadata": {},
   "outputs": [],
   "source": []
  },
  {
   "cell_type": "code",
   "execution_count": null,
   "metadata": {},
   "outputs": [],
   "source": []
  },
  {
   "cell_type": "markdown",
   "metadata": {},
   "source": [
    "## Get launched repositories in a period"
   ]
  },
  {
   "cell_type": "code",
   "execution_count": null,
   "metadata": {},
   "outputs": [],
   "source": [
    "def get_popular_repos_in_period(launch_data, from_dt, to_dt):\n",
    "    \"\"\"\n",
    "    from and to datetimes must be in CET (UTC +1), they will be converted into UTC and then calculations are done.\n",
    "    For example to get launched repos in December 2018\n",
    "    from_dt=\"2018-12-01 00:00:00\" (included)\n",
    "    to_dt=\"2019-01-01 00:00:00\" (not included)   \n",
    "    \"\"\"\n",
    "    popular_repos = []\n",
    "    start_dt = datetime.strptime(from_dt, '%Y-%m-%d %H:%M:%S') - timedelta(hours=1)\n",
    "    end_dt = datetime.strptime(to_dt, '%Y-%m-%d %H:%M:%S') - timedelta(hours=1)\n",
    "    #print(start_dt, end_dt)\n",
    "    for data in launch_data:\n",
    "        # get the launch count just before the of the period\n",
    "        # and just after the end of the period\n",
    "        first_value = 0\n",
    "        last_value = 0\n",
    "        for dt, launch_count in data[3]:\n",
    "            if dt < start_dt:\n",
    "                first_value = launch_count\n",
    "                #print(1, data[0], dt, start_dt, first_value)\n",
    "            elif dt < end_dt:\n",
    "                last_value = launch_count\n",
    "                #print(2, data[0], dt, end_dt, last_value)\n",
    "            else:\n",
    "                break\n",
    "        # increase in launch count in a period\n",
    "        data[3] = last_value - first_value\n",
    "        if data[3] > 0:\n",
    "            popular_repos.append(data)\n",
    "    # sort according to launch count\n",
    "    popular_repos.sort(key=lambda x: x[3], reverse=True)\n",
    "    print(f\"Total number of launches: {sum([i[3] for i in popular_repos])} between {from_dt} and {to_dt}\")\n",
    "    print(f\"Number of repos launched: {len(popular_repos)}\")\n",
    "    return popular_repos"
   ]
  },
  {
   "cell_type": "code",
   "execution_count": null,
   "metadata": {},
   "outputs": [],
   "source": [
    "# get number of launches in January 2019\n",
    "launch_data_ = deepcopy(launch_data)\n",
    "popular_repos = get_popular_repos_in_period(launch_data_, \"2019-01-01 00:00:00\", \"2019-02-01 00:00:00\")\n",
    "display_popular_repos(popular_repos)"
   ]
  },
  {
   "cell_type": "code",
   "execution_count": null,
   "metadata": {
    "scrolled": true
   },
   "outputs": [],
   "source": [
    "# get number of launches in December 2018\n",
    "launch_data_ = deepcopy(launch_data)\n",
    "popular_repos = get_popular_repos_in_period(launch_data_, \"2018-12-01 00:00:00\", \"2019-01-01 00:00:00\")\n",
    "display_popular_repos(popular_repos)"
   ]
  },
  {
   "cell_type": "code",
   "execution_count": null,
   "metadata": {},
   "outputs": [],
   "source": [
    "# get number of launches in November 2018\n",
    "launch_data_ = deepcopy(launch_data)\n",
    "popular_repos = get_popular_repos_in_period(launch_data_, \"2018-11-01 00:00:00\", \"2018-12-01 00:00:00\")\n",
    "display_popular_repos(popular_repos)"
   ]
  },
  {
   "cell_type": "code",
   "execution_count": null,
   "metadata": {},
   "outputs": [],
   "source": [
    "# get number of launches in last 24 hours\n",
    "launch_data_ = deepcopy(launch_data)\n",
    "# datetime.now() returns UTC+2\n",
    "dt1 = datetime.utcnow() + timedelta(hours=1, minutes=1)\n",
    "dt2 = datetime.utcnow() - timedelta(hours=23)\n",
    "popular_repos = get_popular_repos_in_period(launch_data_, dt2.strftime('%Y-%m-%d %H:%M:%S'), dt1.strftime('%Y-%m-%d %H:%M:%S'))\n",
    "display_popular_repos(popular_repos)"
   ]
  },
  {
   "cell_type": "code",
   "execution_count": null,
   "metadata": {},
   "outputs": [],
   "source": []
  }
 ],
 "metadata": {
  "kernelspec": {
   "display_name": "Python 3",
   "language": "python",
   "name": "python3"
  },
  "language_info": {
   "codemirror_mode": {
    "name": "ipython",
    "version": 3
   },
   "file_extension": ".py",
   "mimetype": "text/x-python",
   "name": "python",
   "nbconvert_exporter": "python",
   "pygments_lexer": "ipython3",
   "version": "3.6.7"
  }
 },
 "nbformat": 4,
 "nbformat_minor": 2
}
