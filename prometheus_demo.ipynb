{
 "cells": [
  {
   "cell_type": "code",
   "execution_count": 1,
   "metadata": {},
   "outputs": [],
   "source": [
    "import numpy as np\n",
    "import pandas as pd\n",
    "import requests"
   ]
  },
  {
   "cell_type": "code",
   "execution_count": 2,
   "metadata": {},
   "outputs": [],
   "source": [
    "n_days = 1\n",
    "query = 'binderhub_launch_time_seconds_count{}{}'\n",
    "query_days = \"[{}d]\".format(n_days)\n",
    "query_selectors = \"{status='success'}\"\n",
    "query = query.format(query_selectors, query_days)\n",
    "resp = requests.get('https://notebooks.gesis.org/prometheus/api/v1/query', params={'query': query})\n",
    "data = resp.json()['data']['result']"
   ]
  },
  {
   "cell_type": "code",
   "execution_count": 3,
   "metadata": {},
   "outputs": [],
   "source": [
    "df = {'name': [], 'org': [], 'provider': [], 'builds': []}\n",
    "for container in data:\n",
    "    if 'repo' not in container['metric']:\n",
    "        continue\n",
    "    pref, org, repo = container['metric']['repo'].rsplit('/', 2)\n",
    "    provider = pref.replace('https://', '')\n",
    "    counts = [int(ii[1]) for ii in container['values']]\n",
    "    builds = np.max(counts)\n",
    "    df['name'].append(repo)\n",
    "    df['org'].append(org)\n",
    "    df['provider'].append(provider)\n",
    "    df['builds'].append(builds)\n",
    "df = pd.DataFrame(df)\n",
    "df = df.drop_duplicates(['name'])\n",
    "df = df.groupby(['name', 'org', 'provider']).sum().reset_index().sort_values('builds', ascending=False)\n",
    "df['log_builds'] = df['builds'].apply(np.log)"
   ]
  }
 ],
 "metadata": {
  "kernelspec": {
   "display_name": "Python 3",
   "language": "python",
   "name": "python3"
  },
  "language_info": {
   "codemirror_mode": {
    "name": "ipython",
    "version": 3
   },
   "file_extension": ".py",
   "mimetype": "text/x-python",
   "name": "python",
   "nbconvert_exporter": "python",
   "pygments_lexer": "ipython3",
   "version": "3.6.0"
  }
 },
 "nbformat": 4,
 "nbformat_minor": 2
}
