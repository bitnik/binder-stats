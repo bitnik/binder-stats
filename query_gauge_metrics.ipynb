{
 "cells": [
  {
   "cell_type": "code",
   "execution_count": 1,
   "metadata": {},
   "outputs": [],
   "source": [
    "import requests\n",
    "from datetime import datetime"
   ]
  },
  {
   "cell_type": "code",
   "execution_count": 2,
   "metadata": {},
   "outputs": [],
   "source": [
    "import pprint\n",
    "pp = pprint.PrettyPrinter(indent=4)"
   ]
  },
  {
   "cell_type": "code",
   "execution_count": 3,
   "metadata": {},
   "outputs": [],
   "source": [
    "def make_query(query):\n",
    "    resp = requests.get('https://notebooks.gesis.org/prometheus/api/v1/query', params={'query': query}).json()\n",
    "    pp.pprint(resp)\n",
    "    data = resp['data']['result']\n",
    "    timestamp = data[0]['value'][0]\n",
    "    date_time = datetime.utcfromtimestamp(timestamp).strftime('%Y-%m-%d %H:%M:%S')\n",
    "    print(timestamp, '-->', date_time)\n",
    "    value = data[0]['value'][1]\n",
    "    return value"
   ]
  },
  {
   "cell_type": "code",
   "execution_count": 4,
   "metadata": {},
   "outputs": [
    {
     "name": "stdout",
     "output_type": "stream",
     "text": [
      "{   'data': {   'result': [   {   'metric': {   '__name__': 'binderhub_github_rate_limit_remaining',\n",
      "                                                'instance': '10.244.3.54:8585',\n",
      "                                                'job': 'kubernetes-service-endpoints',\n",
      "                                                'kubernetes_name': 'binder',\n",
      "                                                'kubernetes_namespace': 'bhub-ns'},\n",
      "                                  'value': [1539090979.931, '4999']}],\n",
      "                'resultType': 'vector'},\n",
      "    'status': 'success'}\n",
      "1539090979.931 --> 2018-10-09 13:16:19\n"
     ]
    },
    {
     "data": {
      "text/plain": [
       "'4999'"
      ]
     },
     "execution_count": 4,
     "metadata": {},
     "output_type": "execute_result"
    }
   ],
   "source": [
    "make_query('binderhub_github_rate_limit_remaining{kubernetes_namespace=\"bhub-ns\"}')"
   ]
  },
  {
   "cell_type": "code",
   "execution_count": 5,
   "metadata": {},
   "outputs": [
    {
     "name": "stdout",
     "output_type": "stream",
     "text": [
      "{   'data': {   'result': [   {   'metric': {   '__name__': 'binderhub_inprogress_builds',\n",
      "                                                'instance': '10.244.3.54:8585',\n",
      "                                                'job': 'kubernetes-service-endpoints',\n",
      "                                                'kubernetes_name': 'binder',\n",
      "                                                'kubernetes_namespace': 'bhub-ns'},\n",
      "                                  'value': [1539090980.146, '0']}],\n",
      "                'resultType': 'vector'},\n",
      "    'status': 'success'}\n",
      "1539090980.146 --> 2018-10-09 13:16:20\n"
     ]
    },
    {
     "data": {
      "text/plain": [
       "'0'"
      ]
     },
     "execution_count": 5,
     "metadata": {},
     "output_type": "execute_result"
    }
   ],
   "source": [
    "make_query('binderhub_inprogress_builds{kubernetes_namespace=\"bhub-ns\"}')"
   ]
  },
  {
   "cell_type": "code",
   "execution_count": 6,
   "metadata": {},
   "outputs": [
    {
     "name": "stdout",
     "output_type": "stream",
     "text": [
      "{   'data': {   'result': [   {   'metric': {   '__name__': 'binderhub_inprogress_launches',\n",
      "                                                'instance': '10.244.3.54:8585',\n",
      "                                                'job': 'kubernetes-service-endpoints',\n",
      "                                                'kubernetes_name': 'binder',\n",
      "                                                'kubernetes_namespace': 'bhub-ns'},\n",
      "                                  'value': [1539090981.236, '0']}],\n",
      "                'resultType': 'vector'},\n",
      "    'status': 'success'}\n",
      "1539090981.236 --> 2018-10-09 13:16:21\n"
     ]
    },
    {
     "data": {
      "text/plain": [
       "'0'"
      ]
     },
     "execution_count": 6,
     "metadata": {},
     "output_type": "execute_result"
    }
   ],
   "source": [
    "make_query('binderhub_inprogress_launches{kubernetes_namespace=\"bhub-ns\"}')"
   ]
  },
  {
   "cell_type": "code",
   "execution_count": null,
   "metadata": {},
   "outputs": [],
   "source": []
  }
 ],
 "metadata": {
  "kernelspec": {
   "display_name": "Python 3",
   "language": "python",
   "name": "python3"
  },
  "language_info": {
   "codemirror_mode": {
    "name": "ipython",
    "version": 3
   },
   "file_extension": ".py",
   "mimetype": "text/x-python",
   "name": "python",
   "nbconvert_exporter": "python",
   "pygments_lexer": "ipython3",
   "version": "3.6.6"
  }
 },
 "nbformat": 4,
 "nbformat_minor": 2
}
